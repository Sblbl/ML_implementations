{
 "cells": [
  {
   "cell_type": "markdown",
   "id": "severe-calcium",
   "metadata": {},
   "source": [
    "# CNN output size calculator"
   ]
  },
  {
   "cell_type": "code",
   "execution_count": 1,
   "id": "cellular-decline",
   "metadata": {},
   "outputs": [],
   "source": [
    "import numpy as np"
   ]
  },
  {
   "cell_type": "code",
   "execution_count": 2,
   "id": "charged-secretary",
   "metadata": {},
   "outputs": [],
   "source": [
    "class layer:\n",
    "    def __init__(self, width, height, depth, masks, padding, stride):\n",
    "        self.name = 'convolution'\n",
    "        self.width = width\n",
    "        self.height = height\n",
    "        self.depth = depth\n",
    "        self.masks = masks\n",
    "        self.padding = padding\n",
    "        self.stride = stride\n",
    "    def transform(self, input_mat):\n",
    "        h, w, c = input_mat\n",
    "        out_w = 1 + (w - self.width + 2 * self.padding)/self.stride\n",
    "        out_h = 1 + (h - self.height + 2 * self.padding)/self.stride\n",
    "        if self.masks != None:\n",
    "            out_c = self.masks\n",
    "        else:\n",
    "            out_c = c\n",
    "        output = [out_w, out_h, out_c]\n",
    "        print(output)\n",
    "        return output"
   ]
  },
  {
   "cell_type": "code",
   "execution_count": 3,
   "id": "affecting-american",
   "metadata": {},
   "outputs": [],
   "source": [
    "class flatten:\n",
    "    def __init__(self):\n",
    "        pass\n",
    "    def transform(self, input_mat):\n",
    "        h, w, c = input_mat\n",
    "        output = h * w * c \n",
    "        print(output)\n",
    "        return output"
   ]
  },
  {
   "cell_type": "markdown",
   "id": "d10d4309",
   "metadata": {},
   "source": [
    "## Examples"
   ]
  },
  {
   "cell_type": "code",
   "execution_count": 4,
   "id": "fiscal-groove",
   "metadata": {},
   "outputs": [],
   "source": [
    "X = [200, 200, 3]"
   ]
  },
  {
   "cell_type": "code",
   "execution_count": 5,
   "id": "actual-demonstration",
   "metadata": {},
   "outputs": [],
   "source": [
    "layers = [\n",
    "    layer(5, 5, 3, 40, 0, 1), \n",
    "    layer(2, 2, 1, None, 0, 2), \n",
    "    layer(4, 4, 1, 80, 1, 2), \n",
    "    layer(1, 1, 1, 20, 0, 1),\n",
    "    flatten()\n",
    "]"
   ]
  },
  {
   "cell_type": "code",
   "execution_count": 6,
   "id": "bacterial-given",
   "metadata": {},
   "outputs": [
    {
     "name": "stdout",
     "output_type": "stream",
     "text": [
      "[196.0, 196.0, 40]\n",
      "[98.0, 98.0, 40]\n",
      "[49.0, 49.0, 80]\n",
      "[49.0, 49.0, 20]\n",
      "48020.0\n"
     ]
    }
   ],
   "source": [
    "input_l = X\n",
    "for layer in layers:\n",
    "    input_l = layer.transform(input_l)"
   ]
  }
 ],
 "metadata": {
  "kernelspec": {
   "display_name": "Python 3",
   "language": "python",
   "name": "python3"
  },
  "language_info": {
   "codemirror_mode": {
    "name": "ipython",
    "version": 3
   },
   "file_extension": ".py",
   "mimetype": "text/x-python",
   "name": "python",
   "nbconvert_exporter": "python",
   "pygments_lexer": "ipython3",
   "version": "3.8.8"
  }
 },
 "nbformat": 4,
 "nbformat_minor": 5
}

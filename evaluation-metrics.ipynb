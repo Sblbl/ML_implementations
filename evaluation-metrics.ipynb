{
 "cells": [
  {
   "cell_type": "markdown",
   "id": "accompanied-directive",
   "metadata": {},
   "source": [
    "# Evaluation metrics"
   ]
  },
  {
   "cell_type": "code",
   "execution_count": 1,
   "id": "excessive-macro",
   "metadata": {},
   "outputs": [],
   "source": [
    "import numpy as np"
   ]
  },
  {
   "cell_type": "code",
   "execution_count": 21,
   "id": "brutal-brown",
   "metadata": {},
   "outputs": [],
   "source": [
    "def accuracy(y, pred):\n",
    "    return np.sum(y == pred)/len(y)\n",
    "def precision(y, pred):\n",
    "    TP = sum(1 for i, j in zip(y, pred) if (i == j) & (j == 1))\n",
    "    FP = sum(1 for i, j in zip(y, pred) if (i != j) & (j == 1))\n",
    "    print('TP: ', TP)\n",
    "    print('FP: ', FP)\n",
    "    return TP / (TP + FP)\n",
    "def recall(y, pred):\n",
    "    TP = sum(1 for i, j in zip(y, pred) if (i == j) & (j == 1))\n",
    "    FN = sum(1 for i, j in zip(y, pred) if (i != j) & (j != 1))\n",
    "    print('TP: ', TP)\n",
    "    print('FN: ', FN)\n",
    "    return TP / (TP + FN)\n",
    "def F1(y, pred):\n",
    "    prec = precision(y, pred)\n",
    "    rec = recall(y, pred)\n",
    "    return 2 * ((prec * rec)/(prec + rec))"
   ]
  },
  {
   "cell_type": "code",
   "execution_count": 17,
   "id": "satellite-feeding",
   "metadata": {},
   "outputs": [],
   "source": [
    "y = np.array([0, 0, 0, 1, 1, 1])\n",
    "pred = np.array([1, 1, 0, 0, 1, 1])"
   ]
  },
  {
   "cell_type": "code",
   "execution_count": 18,
   "id": "applied-motivation",
   "metadata": {},
   "outputs": [
    {
     "data": {
      "text/plain": [
       "0.5"
      ]
     },
     "execution_count": 18,
     "metadata": {},
     "output_type": "execute_result"
    }
   ],
   "source": [
    "accuracy(y, pred)"
   ]
  },
  {
   "cell_type": "code",
   "execution_count": 19,
   "id": "political-friday",
   "metadata": {},
   "outputs": [
    {
     "name": "stdout",
     "output_type": "stream",
     "text": [
      "TP:  2\n",
      "FP:  2\n"
     ]
    },
    {
     "data": {
      "text/plain": [
       "0.5"
      ]
     },
     "execution_count": 19,
     "metadata": {},
     "output_type": "execute_result"
    }
   ],
   "source": [
    "precision(y, pred)"
   ]
  },
  {
   "cell_type": "code",
   "execution_count": 20,
   "id": "virtual-infrared",
   "metadata": {},
   "outputs": [
    {
     "name": "stdout",
     "output_type": "stream",
     "text": [
      "TP:  2\n",
      "FN:  1\n"
     ]
    },
    {
     "data": {
      "text/plain": [
       "0.6666666666666666"
      ]
     },
     "execution_count": 20,
     "metadata": {},
     "output_type": "execute_result"
    }
   ],
   "source": [
    "recall(y, pred)"
   ]
  },
  {
   "cell_type": "code",
   "execution_count": 22,
   "id": "invisible-premium",
   "metadata": {},
   "outputs": [
    {
     "name": "stdout",
     "output_type": "stream",
     "text": [
      "TP:  2\n",
      "FP:  2\n",
      "TP:  2\n",
      "FN:  1\n"
     ]
    },
    {
     "data": {
      "text/plain": [
       "0.5714285714285715"
      ]
     },
     "execution_count": 22,
     "metadata": {},
     "output_type": "execute_result"
    }
   ],
   "source": [
    "F1(y, pred)"
   ]
  },
  {
   "cell_type": "code",
   "execution_count": null,
   "id": "original-poison",
   "metadata": {},
   "outputs": [],
   "source": []
  }
 ],
 "metadata": {
  "kernelspec": {
   "display_name": "Python 3",
   "language": "python",
   "name": "python3"
  },
  "language_info": {
   "codemirror_mode": {
    "name": "ipython",
    "version": 3
   },
   "file_extension": ".py",
   "mimetype": "text/x-python",
   "name": "python",
   "nbconvert_exporter": "python",
   "pygments_lexer": "ipython3",
   "version": "3.8.8"
  }
 },
 "nbformat": 4,
 "nbformat_minor": 5
}

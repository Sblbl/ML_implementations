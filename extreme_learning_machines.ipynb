{
 "cells": [
  {
   "cell_type": "markdown",
   "id": "olive-provision",
   "metadata": {},
   "source": [
    "# Extreme learning machines"
   ]
  },
  {
   "cell_type": "markdown",
   "id": "03e215d2",
   "metadata": {},
   "source": [
    "<img src=\"img/extreme.png\"/>"
   ]
  },
  {
   "cell_type": "code",
   "execution_count": 1,
   "id": "thorough-spring",
   "metadata": {},
   "outputs": [],
   "source": [
    "import numpy as np"
   ]
  },
  {
   "cell_type": "code",
   "execution_count": 64,
   "id": "municipal-ocean",
   "metadata": {},
   "outputs": [],
   "source": [
    "def heaviside(X, t):\n",
    "    return np.where((X-t) != 0, np.maximum(0, np.sign(X-t)), 0.5) \n",
    "def extreme_learning(X, V, w):\n",
    "    # augment X\n",
    "    X = np.insert(X, 0, 1., axis=1)\n",
    "    print('V · X.T', np.dot(V, X.T))\n",
    "    heavy_XV = heaviside(np.dot(V, X.T), 0)\n",
    "    # The response of the output neuron to a single exemplar is defined as z = wy. \n",
    "    # The response to all input patterns is given by:\n",
    "    augmentation = np.array([np.ones(heavy_XV.shape[1])])\n",
    "    heavy_XV = np.concatenate((augmentation, heavy_XV), axis=0)\n",
    "    print('heavy_XV', heavy_XV)\n",
    "    response = np.dot(w, heavy_XV)\n",
    "    print('response:', response)\n"
   ]
  },
  {
   "cell_type": "markdown",
   "id": "78ed7f23",
   "metadata": {},
   "source": [
    "## Examples"
   ]
  },
  {
   "cell_type": "code",
   "execution_count": 65,
   "id": "invisible-wallace",
   "metadata": {},
   "outputs": [],
   "source": [
    "X = np.array([\n",
    "    [0, 0],\n",
    "    [0, 1], \n",
    "    [1, 0],\n",
    "    [1, 1]\n",
    "])\n",
    "\n",
    "V = np.array([\n",
    "    [-0.62, 0.44, -0.91],\n",
    "    [-0.81, -0.09, 0.02],\n",
    "    [0.74, -0.91, -0.6],\n",
    "    [-0.82,-0.92, 0.71],\n",
    "    [-0.26, 0.68, 0.15],\n",
    "    [0.80, -0.94, -0.83]\n",
    "])\n",
    "\n",
    "w = np.array([0, 0,0,-1,0,0,2])"
   ]
  },
  {
   "cell_type": "code",
   "execution_count": 66,
   "id": "antique-brass",
   "metadata": {},
   "outputs": [
    {
     "name": "stdout",
     "output_type": "stream",
     "text": [
      "[[-0.62 -1.53 -0.18 -1.09]\n",
      " [-0.81 -0.79 -0.9  -0.88]\n",
      " [ 0.74  0.14 -0.17 -0.77]\n",
      " [-0.82 -0.11 -1.74 -1.03]\n",
      " [-0.26 -0.11  0.42  0.57]\n",
      " [ 0.8  -0.03 -0.14 -0.97]]\n",
      "[[1. 1. 1. 1.]\n",
      " [0. 0. 0. 0.]\n",
      " [0. 0. 0. 0.]\n",
      " [1. 1. 0. 0.]\n",
      " [0. 0. 0. 0.]\n",
      " [0. 0. 1. 1.]\n",
      " [1. 0. 0. 0.]]\n",
      "response: [ 1. -1.  0.  0.]\n"
     ]
    }
   ],
   "source": [
    "extreme_learning(X, V, w)"
   ]
  },
  {
   "cell_type": "code",
   "execution_count": null,
   "id": "continent-secondary",
   "metadata": {},
   "outputs": [],
   "source": []
  }
 ],
 "metadata": {
  "kernelspec": {
   "display_name": "Python 3",
   "language": "python",
   "name": "python3"
  },
  "language_info": {
   "codemirror_mode": {
    "name": "ipython",
    "version": 3
   },
   "file_extension": ".py",
   "mimetype": "text/x-python",
   "name": "python",
   "nbconvert_exporter": "python",
   "pygments_lexer": "ipython3",
   "version": "3.8.8"
  }
 },
 "nbformat": 4,
 "nbformat_minor": 5
}

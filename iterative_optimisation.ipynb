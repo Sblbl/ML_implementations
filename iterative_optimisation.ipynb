{
 "cells": [
  {
   "cell_type": "markdown",
   "id": "royal-italic",
   "metadata": {},
   "source": [
    "# Iterative optimisation"
   ]
  },
  {
   "cell_type": "code",
   "execution_count": 1,
   "id": "found-spyware",
   "metadata": {},
   "outputs": [],
   "source": [
    "import numpy as np"
   ]
  },
  {
   "cell_type": "markdown",
   "id": "radio-casting",
   "metadata": {},
   "source": [
    "<img src='img/iter_opt.png' style='height:300px;width:auto;'/>"
   ]
  },
  {
   "cell_type": "code",
   "execution_count": 83,
   "id": "primary-operation",
   "metadata": {},
   "outputs": [],
   "source": [
    "def euc(x, y):\n",
    "    return np.linalg.norm(x - y)\n",
    "\n",
    "def classify(x, centers):\n",
    "    dists = []\n",
    "    for c in centers:\n",
    "        dists.append(euc(x, c))\n",
    "    return centers[dists.index(min(dists))]\n",
    "\n",
    "def iterative_optimisation(X, clusters, max_iter=100, threshold = 0.1):\n",
    "    changed = True\n",
    "    cost = np.Infinity\n",
    "    iteration = 0 \n",
    "    while changed == True and iteration < max_iter:\n",
    "        for i, x in enumerate(X):\n",
    "            iteration += 1\n",
    "            print('-----------------------------')\n",
    "            print('ITERATION:', iteration)\n",
    "            x = list(x)\n",
    "            print('point:', x)\n",
    "            centers = clusters.keys()\n",
    "            \n",
    "            dists = []\n",
    "            for cluster in clusters.keys():\n",
    "                dists.append(euc(np.array(list(cluster)), x))\n",
    "            center = list(centers)[dists.index(min(dists))]\n",
    "            print('cluster:', center)\n",
    "            \n",
    "            for c, points in clusters.items():\n",
    "                if x in points:\n",
    "                    clusters[c].remove(x)\n",
    "            clusters[center].append(x)\n",
    "            #clusters[center].append(x)\n",
    "            if len(clusters[center]) > 1:\n",
    "                costs = []\n",
    "                for cluster, points in clusters.items():\n",
    "                    if cluster == center:\n",
    "                        costs.append((len(cluster)/(len(cluster)-1))*euc(x, np.array(center)))\n",
    "                    else:\n",
    "                        costs.append((len(cluster)/(len(cluster)+1))*euc(x, np.array(center)))\n",
    "                k = costs.index(min(costs))\n",
    "                print('cheapest cluster:', list(clusters.keys())[k])\n",
    "                # if a cheaper configuration is present, move the point to the other cluster\n",
    "                if list(clusters.keys())[k] != center:\n",
    "                    clusters[center].remove(x)\n",
    "                    clusters[list(clusters.keys())[k]].append(x)\n",
    "            costs = []\n",
    "            # recompute centroids\n",
    "            new_clusters = {}\n",
    "            for key, points in clusters.items():\n",
    "                new_centroid = list(np.mean(np.array(points), axis=0))\n",
    "                if (new_centroid[0], new_centroid[1]) != key:\n",
    "                    #clusters.pop(key)\n",
    "                    new_clusters[(new_centroid[0], new_centroid[1])] = points\n",
    "                    #append cost\n",
    "                    dists = [euc(np.array(p), np.array(new_centroid)) for p in points]\n",
    "                    costs.append(sum(dists))\n",
    "                else:\n",
    "                    new_clusters[(new_centroid[0], new_centroid[1])] = points\n",
    "                    dists = [euc(np.array(p), np.array(new_centroid)) for p in points]\n",
    "                    costs.append(sum(dists))\n",
    "            clusters = new_clusters\n",
    "            # recompute cost\n",
    "            new_cost = sum(costs)\n",
    "            if abs(cost - new_cost) < threshold:\n",
    "                changed = False\n",
    "                break\n",
    "            cost = new_cost\n",
    "            print('new clusters:', clusters)\n",
    "            print('cost:', cost)"
   ]
  },
  {
   "cell_type": "markdown",
   "id": "680d2ce3",
   "metadata": {},
   "source": [
    "## Examples"
   ]
  },
  {
   "cell_type": "code",
   "execution_count": 84,
   "id": "regulated-broadcasting",
   "metadata": {},
   "outputs": [],
   "source": [
    "X = np.array([\n",
    "    [-1, 3],\n",
    "    [1, 4],\n",
    "    [0, 5],\n",
    "    [4, -1],\n",
    "    [3, 0],\n",
    "    [5, 1]\n",
    "])\n",
    "\n",
    "clusters = {\n",
    "    (2.3, 1.34) : [[-1, 3], [3, 0], [5, 1]], \n",
    "    (0., 2.7) : [[1, 4], [0, 5], [4, -1]]\n",
    "}"
   ]
  },
  {
   "cell_type": "code",
   "execution_count": 86,
   "id": "driving-villa",
   "metadata": {},
   "outputs": [
    {
     "name": "stdout",
     "output_type": "stream",
     "text": [
      "-----------------------------\n",
      "ITERATION: 1\n",
      "point: [-1, 3]\n",
      "cluster: (0.0, 2.7)\n",
      "cheapest cluster: (2.3, 1.34)\n",
      "new clusters: {(2.0, 2.0): [[0, 5], [4, -1]]}\n",
      "cost: 18.00779382626432\n",
      "-----------------------------\n",
      "ITERATION: 2\n",
      "point: [1, 4]\n",
      "cluster: (2.0, 2.0)\n",
      "cheapest cluster: (2.0, 2.0)\n",
      "new clusters: {(1.6666666666666667, 2.6666666666666665): [[0, 5], [4, -1], [1, 4]]}\n",
      "cost: 8.7042886774825\n",
      "-----------------------------\n",
      "ITERATION: 3\n",
      "point: [0, 5]\n",
      "cluster: (1.6666666666666667, 2.6666666666666665)\n",
      "cheapest cluster: (1.6666666666666667, 2.6666666666666665)\n"
     ]
    }
   ],
   "source": [
    "iterative_optimisation(X, clusters, max_iter=100, threshold=0.01)"
   ]
  },
  {
   "cell_type": "code",
   "execution_count": null,
   "id": "overall-collar",
   "metadata": {},
   "outputs": [],
   "source": []
  },
  {
   "cell_type": "code",
   "execution_count": null,
   "id": "developmental-tower",
   "metadata": {},
   "outputs": [],
   "source": []
  }
 ],
 "metadata": {
  "kernelspec": {
   "display_name": "Python 3",
   "language": "python",
   "name": "python3"
  },
  "language_info": {
   "codemirror_mode": {
    "name": "ipython",
    "version": 3
   },
   "file_extension": ".py",
   "mimetype": "text/x-python",
   "name": "python",
   "nbconvert_exporter": "python",
   "pygments_lexer": "ipython3",
   "version": "3.8.8"
  }
 },
 "nbformat": 4,
 "nbformat_minor": 5
}

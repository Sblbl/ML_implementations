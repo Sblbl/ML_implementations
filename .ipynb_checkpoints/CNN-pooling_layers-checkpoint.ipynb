{
 "cells": [
  {
   "cell_type": "markdown",
   "id": "brutal-switch",
   "metadata": {},
   "source": [
    "# Pooling"
   ]
  },
  {
   "cell_type": "markdown",
   "id": "c820eaf1",
   "metadata": {},
   "source": [
    "### NOTE\n",
    "This code does not belong to me. Check  https://stackoverflow.com/questions/42463172/how-to-perform-max-mean-pooling-on-a-2d-array-using-numpy"
   ]
  },
  {
   "cell_type": "code",
   "execution_count": 1,
   "id": "complete-format",
   "metadata": {},
   "outputs": [],
   "source": [
    "import numpy as np"
   ]
  },
  {
   "cell_type": "code",
   "execution_count": 3,
   "id": "aging-criticism",
   "metadata": {},
   "outputs": [],
   "source": [
    "def asStride(arr, sub_shape, stride):\n",
    "    '''Get a strided sub-matrices view of an ndarray.\n",
    "        See also skimage.util.shape.view_as_windows()\n",
    "    '''\n",
    "    s0, s1 = arr.strides[:2]\n",
    "    m1, n1 = arr.shape[:2]\n",
    "    m2, n2 = sub_shape\n",
    "    view_shape = (1+(m1-m2)//stride[0],1+(n1-n2)//stride[1],m2,n2)+arr.shape[2:]\n",
    "    strides = (stride[0]*s0,stride[1]*s1,s0,s1)+arr.strides[2:]\n",
    "    subs = np.lib.stride_tricks.as_strided(arr,view_shape,strides=strides)\n",
    "    return subs\n",
    "\n",
    "def poolingOverlap(mat, ksize, stride=None, method='max', pad=False):\n",
    "    '''Overlapping pooling on 2D or 3D data.\n",
    "    mat: ndarray, input array to pool.\n",
    "    ksize: tuple of 2, kernel size in (ky, kx).\n",
    "    stride: tuple of 2 or None, stride of pooling window.\n",
    "              If None, same as <ksize> (non-overlapping pooling).\n",
    "    method: str, 'max for max-pooling,\n",
    "                   'mean' for mean-pooling.\n",
    "    pad: bool, pad <mat> or not. If no pad, output has size\n",
    "           (n-f)//s+1, n being <mat> size, f being kernel size, s stride.\n",
    "           if pad, output has size ceil(n/s).\n",
    "    Return result: pooled matrix.\n",
    "    '''\n",
    "\n",
    "    m, n = mat.shape[:2]\n",
    "    ky,kx=ksize\n",
    "    if stride is None:\n",
    "        stride=(ky,kx)\n",
    "    sy,sx=stride\n",
    "\n",
    "    _ceil=lambda x,y: int(np.ceil(x/float(y)))\n",
    "\n",
    "    if pad:\n",
    "        ny=_ceil(m,sy)\n",
    "        nx=_ceil(n,sx)\n",
    "        size=((ny-1)*sy+ky, (nx-1)*sx+kx) + mat.shape[2:]\n",
    "        mat_pad=np.full(size,np.nan)\n",
    "        mat_pad[:m,:n,...]=mat\n",
    "    else:\n",
    "        mat_pad=mat[:(m-ky)//sy*sy+ky, :(n-kx)//sx*sx+kx, ...]\n",
    "\n",
    "    view=asStride(mat_pad,ksize,stride)\n",
    "\n",
    "    if method=='max':\n",
    "        result=np.nanmax(view,axis=(2,3))\n",
    "    else:\n",
    "        result=np.nanmean(view,axis=(2,3))\n",
    "\n",
    "    return result"
   ]
  },
  {
   "cell_type": "code",
   "execution_count": null,
   "id": "casual-wagon",
   "metadata": {},
   "outputs": [],
   "source": []
  }
 ],
 "metadata": {
  "kernelspec": {
   "display_name": "Python 3",
   "language": "python",
   "name": "python3"
  },
  "language_info": {
   "codemirror_mode": {
    "name": "ipython",
    "version": 3
   },
   "file_extension": ".py",
   "mimetype": "text/x-python",
   "name": "python",
   "nbconvert_exporter": "python",
   "pygments_lexer": "ipython3",
   "version": "3.8.8"
  }
 },
 "nbformat": 4,
 "nbformat_minor": 5
}

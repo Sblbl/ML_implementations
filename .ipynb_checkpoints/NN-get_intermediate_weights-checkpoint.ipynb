{
 "cells": [
  {
   "cell_type": "markdown",
   "id": "removable-verse",
   "metadata": {},
   "source": [
    "# NN - get intermediate weights"
   ]
  },
  {
   "cell_type": "code",
   "execution_count": 1,
   "id": "nuclear-magnitude",
   "metadata": {},
   "outputs": [],
   "source": [
    "import numpy as np"
   ]
  },
  {
   "cell_type": "code",
   "execution_count": 16,
   "id": "casual-stroke",
   "metadata": {},
   "outputs": [],
   "source": [
    "def get_Wji(x, Wkj, z):\n",
    "    return np.dot(np.dot(np.linalg.inv(Wkj), z), np.dot(x.T, np.linalg.inv(np.dot(x, x.T))))"
   ]
  },
  {
   "cell_type": "code",
   "execution_count": 17,
   "id": "equipped-billy",
   "metadata": {},
   "outputs": [],
   "source": [
    "# original data was x1 [2, -0.5] and x2 [-4, -6]\n",
    "x = np.array([\n",
    "    [2, -4], \n",
    "    [-0.5, -6]\n",
    "])\n",
    "\n",
    "# original data was z1 = [98, 7.5] and z2 = [-168, -246]\n",
    "z = np.array([\n",
    "    [98, -168], \n",
    "    [7.5, -246]\n",
    "])\n",
    "\n",
    "# to first neuron arrive 8 and -4; to second neuron 6 and 9\n",
    "Wkj = np.array([\n",
    "    [8, -4],\n",
    "    [6, 9]\n",
    "])"
   ]
  },
  {
   "cell_type": "code",
   "execution_count": 18,
   "id": "collaborative-southeast",
   "metadata": {},
   "outputs": [
    {
     "data": {
      "text/plain": [
       "array([[ 5.,  1.],\n",
       "       [-2.,  3.]])"
      ]
     },
     "execution_count": 18,
     "metadata": {},
     "output_type": "execute_result"
    }
   ],
   "source": [
    "get_Wji(x, Wkj, z)"
   ]
  },
  {
   "cell_type": "markdown",
   "id": "acceptable-surface",
   "metadata": {},
   "source": [
    "So, to first neuron will arrive w11 = 5 and w12 = 1;\n",
    "To second neuron will arrive w21 = -2 and w22 = 3"
   ]
  },
  {
   "cell_type": "code",
   "execution_count": null,
   "id": "intense-treaty",
   "metadata": {},
   "outputs": [],
   "source": []
  }
 ],
 "metadata": {
  "kernelspec": {
   "display_name": "Python 3",
   "language": "python",
   "name": "python3"
  },
  "language_info": {
   "codemirror_mode": {
    "name": "ipython",
    "version": 3
   },
   "file_extension": ".py",
   "mimetype": "text/x-python",
   "name": "python",
   "nbconvert_exporter": "python",
   "pygments_lexer": "ipython3",
   "version": "3.8.8"
  }
 },
 "nbformat": 4,
 "nbformat_minor": 5
}

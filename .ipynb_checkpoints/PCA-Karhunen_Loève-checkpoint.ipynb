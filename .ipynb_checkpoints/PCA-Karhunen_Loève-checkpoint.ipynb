{
 "cells": [
  {
   "cell_type": "markdown",
   "id": "surface-mounting",
   "metadata": {},
   "source": [
    "## Karhunen-Loève Transform for PCA"
   ]
  },
  {
   "cell_type": "code",
   "execution_count": 2,
   "id": "british-cigarette",
   "metadata": {},
   "outputs": [],
   "source": [
    "import numpy as np\n",
    "from sklearn.decomposition import PCA"
   ]
  },
  {
   "cell_type": "code",
   "execution_count": 3,
   "id": "stylish-notice",
   "metadata": {},
   "outputs": [],
   "source": [
    "data = np.array([\n",
    "    [1, 2, 1],\n",
    "    [2, 3, 1],\n",
    "    [3, 5, 1],\n",
    "    [2, 2, 1]\n",
    "])"
   ]
  },
  {
   "cell_type": "code",
   "execution_count": 4,
   "id": "african-harmony",
   "metadata": {},
   "outputs": [
    {
     "data": {
      "text/plain": [
       "PCA(copy=True, iterated_power='auto', n_components=2, random_state=None,\n",
       "    svd_solver='auto', tol=0.0, whiten=False)"
      ]
     },
     "execution_count": 4,
     "metadata": {},
     "output_type": "execute_result"
    }
   ],
   "source": [
    "pca = PCA(n_components=2)\n",
    "pca.fit(data)"
   ]
  },
  {
   "cell_type": "code",
   "execution_count": 9,
   "id": "meaning-encounter",
   "metadata": {},
   "outputs": [
    {
     "data": {
      "text/plain": [
       "array([[ 0.47185793,  0.8816746 ,  0.        ],\n",
       "       [ 0.8816746 , -0.47185793, -0.        ]])"
      ]
     },
     "execution_count": 9,
     "metadata": {},
     "output_type": "execute_result"
    }
   ],
   "source": [
    "# eigenvalues and eigenvectors\n",
    "pca.components_"
   ]
  },
  {
   "cell_type": "code",
   "execution_count": 5,
   "id": "transsexual-tamil",
   "metadata": {},
   "outputs": [
    {
     "data": {
      "text/plain": [
       "array([[-1.35353252, -0.40981667],\n",
       "       [ 0.        ,  0.        ],\n",
       "       [ 2.23520712, -0.06204125],\n",
       "       [-0.8816746 ,  0.47185793]])"
      ]
     },
     "execution_count": 5,
     "metadata": {},
     "output_type": "execute_result"
    }
   ],
   "source": [
    "# transformed data\n",
    "pca.transform(data)"
   ]
  },
  {
   "cell_type": "markdown",
   "id": "spoken-smell",
   "metadata": {},
   "source": [
    "<p style='color:green'>What is the proportion of the variance explained by the first two principal components in the preceding question?</p>\n",
    "The proportion of the variance is given by sum of eigenvalues for selected components divided by the sum of all\n",
    "eigenvalues."
   ]
  },
  {
   "cell_type": "code",
   "execution_count": 42,
   "id": "acknowledged-programmer",
   "metadata": {},
   "outputs": [
    {
     "data": {
      "text/plain": [
       "array([[-1.35353252e+00, -2.77555756e-17,  2.23520712e+00,\n",
       "        -8.81674599e-01],\n",
       "       [-4.09816673e-01,  0.00000000e+00, -6.20412523e-02,\n",
       "         4.71857926e-01]])"
      ]
     },
     "execution_count": 42,
     "metadata": {},
     "output_type": "execute_result"
    }
   ],
   "source": [
    "transf = pca.transform(data) - np.mean(pca.transform(data).T, axis=1)\n",
    "transf.T"
   ]
  },
  {
   "cell_type": "code",
   "execution_count": 43,
   "id": "aboriginal-forth",
   "metadata": {},
   "outputs": [
    {
     "data": {
      "text/plain": [
       "array([[ 2.53518376e+00, -3.14563190e-16],\n",
       "       [-3.14563190e-16,  1.31482908e-01]])"
      ]
     },
     "execution_count": 43,
     "metadata": {},
     "output_type": "execute_result"
    }
   ],
   "source": [
    "np.cov(transf.T)"
   ]
  },
  {
   "cell_type": "code",
   "execution_count": null,
   "id": "forward-hybrid",
   "metadata": {},
   "outputs": [],
   "source": []
  }
 ],
 "metadata": {
  "kernelspec": {
   "display_name": "Python 3",
   "language": "python",
   "name": "python3"
  },
  "language_info": {
   "codemirror_mode": {
    "name": "ipython",
    "version": 3
   },
   "file_extension": ".py",
   "mimetype": "text/x-python",
   "name": "python",
   "nbconvert_exporter": "python",
   "pygments_lexer": "ipython3",
   "version": "3.8.8"
  }
 },
 "nbformat": 4,
 "nbformat_minor": 5
}

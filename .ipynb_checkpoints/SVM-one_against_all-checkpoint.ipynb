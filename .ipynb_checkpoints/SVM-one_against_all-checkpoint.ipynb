{
 "cells": [
  {
   "cell_type": "markdown",
   "id": "widespread-adolescent",
   "metadata": {},
   "source": [
    "# One against all SVM"
   ]
  },
  {
   "cell_type": "code",
   "execution_count": 1,
   "id": "intimate-spice",
   "metadata": {},
   "outputs": [],
   "source": [
    "import numpy as np\n",
    "import matplotlib.pyplot as plt\n",
    "%matplotlib inline"
   ]
  },
  {
   "cell_type": "code",
   "execution_count": 2,
   "id": "included-wealth",
   "metadata": {},
   "outputs": [],
   "source": [
    "def SVM(SV, y):\n",
    "    matrix = []\n",
    "    for i, sv1 in enumerate(SV):\n",
    "        temp = []\n",
    "        for j, sv2 in enumerate(SV):\n",
    "            temp.append(y[j] * np.dot(sv2.T,  sv1))\n",
    "        #temp.append(y[i])\n",
    "        temp.append(1)\n",
    "        matrix.append(np.array(temp))\n",
    "    \n",
    "    y_new = list(y)\n",
    "    y_new.append(0)\n",
    "    y_new = np.array(y_new)\n",
    "    matrix.append(y_new)  \n",
    "    matrix = np.matrix(np.array(matrix))\n",
    "    \n",
    "    matrix_inv = np.linalg.inv(matrix)\n",
    "    \n",
    "    print(matrix)\n",
    "    print(matrix_inv)\n",
    "    print(y_new)\n",
    "    \n",
    "    lambdas = np.dot(np.array(matrix_inv), y_new)\n",
    "    lambdas = np.array(lambdas)\n",
    "    \n",
    "    print(lambdas)\n",
    "    w = []\n",
    "    for i in range(len(SV)):\n",
    "        w.append(y[i] * np.dot(SV[i], lambdas[i]))\n",
    "    w = np.array(w)\n",
    "    W = w.sum(axis=0)\n",
    "    print('w =', W, 'w0 =', lambdas[-1])\n",
    "    return (W, lambdas[-1])"
   ]
  },
  {
   "cell_type": "markdown",
   "id": "differential-incidence",
   "metadata": {},
   "source": [
    "- train R classifiers; R = # of classes\n",
    "- the aim is to classify one class against all the others\n",
    "- choose the class with more votes\n",
    "\n",
    "Note: this method leaves blank uncategorisable spaces"
   ]
  },
  {
   "cell_type": "markdown",
   "id": "6fe32f2e",
   "metadata": {},
   "source": [
    "## Examples"
   ]
  },
  {
   "cell_type": "code",
   "execution_count": null,
   "id": "injured-ministry",
   "metadata": {},
   "outputs": [],
   "source": [
    "X = np.array([\n",
    "    # class_1\n",
    "    [0, 10],\n",
    "    [1, 8],\n",
    "    [2, 9],\n",
    "    [2, 8],\n",
    "    [3, 10],\n",
    "    [3, 9],\n",
    "    [4, 10],\n",
    "    [4, 9],\n",
    "    [4, 8],\n",
    "    [5, 9],\n",
    "    # class_2\n",
    "    [2, 6],\n",
    "    [0, 5],\n",
    "    [4, 5],\n",
    "    [2, 4],\n",
    "    [5, 3],\n",
    "    [0, 2],\n",
    "    [2, 2],\n",
    "    [5, 2],\n",
    "    [2, 1],\n",
    "    [3, 0],\n",
    "    # class_3\n",
    "    [9, 6],\n",
    "    [8, 5],\n",
    "    [7, 3],\n",
    "    [8, 3],\n",
    "    [9, 3],\n",
    "    [10, 3],\n",
    "    [7, 1],\n",
    "    [8, 1],\n",
    "    [8, 0],\n",
    "    [9, 0]  \n",
    "])\n",
    "y = np.array([\n",
    "    1, 1, 1, 1, 1, 1, 1, 1, 1, 1,\n",
    "    2, 2, 2, 2, 2, 2, 2, 2, 2, 2, \n",
    "    3, 3, 3, 3, 3, 3, 3, 3, 3, 3\n",
    "])\n",
    "# SVs\n",
    "SV12_X = np.array([\n",
    "    [1, 8], [2, 8], [4, 8], [2, 6], [9, 6]\n",
    "])\n",
    "SV12_y = np.array([1, 1, 1, -1, -1])\n",
    "\n",
    "SV23_X = np.array([\n",
    "    [7, 3], [7, 1], [5, 9], [5, 3], [5, 2]\n",
    "])\n",
    "SV23_y = np.array([1, 1, -1, -1, -1])"
   ]
  }
 ],
 "metadata": {
  "kernelspec": {
   "display_name": "Python 3",
   "language": "python",
   "name": "python3"
  },
  "language_info": {
   "codemirror_mode": {
    "name": "ipython",
    "version": 3
   },
   "file_extension": ".py",
   "mimetype": "text/x-python",
   "name": "python",
   "nbconvert_exporter": "python",
   "pygments_lexer": "ipython3",
   "version": "3.8.8"
  }
 },
 "nbformat": 4,
 "nbformat_minor": 5
}

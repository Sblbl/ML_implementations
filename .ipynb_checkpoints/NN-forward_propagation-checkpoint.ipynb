{
 "cells": [
  {
   "cell_type": "markdown",
   "id": "through-aquatic",
   "metadata": {},
   "source": [
    "# Neural network forward propagation"
   ]
  },
  {
   "cell_type": "code",
   "execution_count": 1,
   "id": "mathematical-duration",
   "metadata": {},
   "outputs": [],
   "source": [
    "import numpy as np\n",
    "from math import exp"
   ]
  },
  {
   "cell_type": "code",
   "execution_count": 2,
   "id": "popular-compression",
   "metadata": {},
   "outputs": [],
   "source": [
    "def tangent(x):\n",
    "    return 2 / (1 + np.exp(-2 * x)) -1\n",
    "def sigmoid(x):\n",
    "    return 1/(1 + np.exp(-x))\n",
    "def forward_propagation(x, Wji, Wj0, Wkj, Wk0): \n",
    "    \"\"\" NN forward propagation step\n",
    "        x: np.array\n",
    "            Sample\n",
    "        Wji: np.array\n",
    "            First layer weights vector\n",
    "        Wj0: np.array\n",
    "            First layer bias\n",
    "        Wkj: np.array\n",
    "            Output layer weights vector\n",
    "        Wk0: np.array\n",
    "            Output layer bias\n",
    "    \"\"\"\n",
    "    print('x:', x)\n",
    "    y = tangent(np.matmul(Wji, x) + Wj0)\n",
    "    print('y:', y)\n",
    "    z = sigmoid(np.matmul(Wkj, y) + Wk0)\n",
    "    print('z:', z)\n",
    "    return z"
   ]
  },
  {
   "cell_type": "markdown",
   "id": "1d35e991",
   "metadata": {},
   "source": [
    "## Examples"
   ]
  },
  {
   "cell_type": "code",
   "execution_count": 3,
   "id": "invisible-correspondence",
   "metadata": {},
   "outputs": [],
   "source": [
    "Wji = np.array([[-0.7057, 1.9061, 2.6605, -1.1359], \n",
    "                [0.4900, 1.9324, -0.4269, -5.1570],\n",
    "                [0.9438, -5.4160, -0.3431, -0.2931]\n",
    "               ])\n",
    "Wj0 = np.array([4.8432, 0.3973, 2.1761])\n",
    "Wkj = np.array([[-1.1444, 0.3115, -9.9812],\n",
    "                [0.0106, 11.5477, 2.6479]\n",
    "               ])\n",
    "Wk0 = np.array([2.5230, 2.6463])\n",
    "X = np.array([[1, 0, 1, 0], \n",
    "            [0, 1, 0, 1],\n",
    "            [1, 1, 0, 0],\n",
    "             ])"
   ]
  },
  {
   "cell_type": "code",
   "execution_count": 4,
   "id": "latter-medicare",
   "metadata": {},
   "outputs": [
    {
     "name": "stdout",
     "output_type": "stream",
     "text": [
      "[1 0 1 0]\n",
      "y: [0.99999751 0.43041017 0.99228292]\n",
      "z: [2.26735732e-04 9.99964806e-01]\n",
      "[0 1 0 1]\n",
      "y: [ 0.99997338 -0.99302169 -0.99829417]\n",
      "z: [9.99983848e-01 1.06110932e-05]\n",
      "[1 1 0 0]\n",
      "y: [ 0.99998874  0.99291518 -0.9799421 ]\n",
      "z: [0.99998955 0.99999015]\n",
      "[array([0.00022674, 0.99996481]), array([0.99998385, 0.00001061]), array([0.99998955, 0.99999015])]\n"
     ]
    }
   ],
   "source": [
    "outputs = []\n",
    "for x in X:\n",
    "    z = forward_propagation(x, Wji, Wj0, Wkj, Wk0)\n",
    "    outputs.append(z)\n",
    "#remove the e-n formatting for decimal numbers\n",
    "np.set_printoptions(suppress=True)\n",
    "print('outputs:', outputs)"
   ]
  },
  {
   "cell_type": "code",
   "execution_count": null,
   "id": "answering-singing",
   "metadata": {},
   "outputs": [],
   "source": []
  }
 ],
 "metadata": {
  "kernelspec": {
   "display_name": "Python 3",
   "language": "python",
   "name": "python3"
  },
  "language_info": {
   "codemirror_mode": {
    "name": "ipython",
    "version": 3
   },
   "file_extension": ".py",
   "mimetype": "text/x-python",
   "name": "python",
   "nbconvert_exporter": "python",
   "pygments_lexer": "ipython3",
   "version": "3.8.8"
  }
 },
 "nbformat": 4,
 "nbformat_minor": 5
}

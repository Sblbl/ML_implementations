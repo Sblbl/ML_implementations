{
 "cells": [
  {
   "cell_type": "markdown",
   "id": "accepting-target",
   "metadata": {},
   "source": [
    "# ICA - independent component analysis"
   ]
  },
  {
   "cell_type": "code",
   "execution_count": 1,
   "id": "micro-authentication",
   "metadata": {},
   "outputs": [],
   "source": [
    "import numpy as np\n",
    "from sklearn.decomposition import FastICA"
   ]
  },
  {
   "cell_type": "code",
   "execution_count": 2,
   "id": "experienced-header",
   "metadata": {},
   "outputs": [],
   "source": [
    "data = np.array([\n",
    "    [1, 2, 1],\n",
    "    [2, 3, 1],\n",
    "    [3, 5, 1],\n",
    "    [2, 2, 1]\n",
    "])"
   ]
  },
  {
   "cell_type": "code",
   "execution_count": 4,
   "id": "enhanced-legislation",
   "metadata": {},
   "outputs": [
    {
     "name": "stderr",
     "output_type": "stream",
     "text": [
      "/opt/anaconda3/lib/python3.7/site-packages/sklearn/decomposition/_fastica.py:481: RuntimeWarning: divide by zero encountered in true_divide\n",
      "  K = (u / d).T[:n_components]  # see (6.33) p.140\n",
      "/opt/anaconda3/lib/python3.7/site-packages/sklearn/decomposition/_fastica.py:481: RuntimeWarning: invalid value encountered in true_divide\n",
      "  K = (u / d).T[:n_components]  # see (6.33) p.140\n"
     ]
    },
    {
     "data": {
      "text/plain": [
       "array([[-0.26937423,  0.77078154],\n",
       "       [ 0.        ,  0.        ],\n",
       "       [ 0.80220351, -0.15210584],\n",
       "       [-0.53282928, -0.6186757 ]])"
      ]
     },
     "execution_count": 4,
     "metadata": {},
     "output_type": "execute_result"
    }
   ],
   "source": [
    "ica = FastICA(n_components=2)\n",
    "projection = ica.fit_transform(data)\n",
    "projection"
   ]
  },
  {
   "cell_type": "code",
   "execution_count": null,
   "id": "cardiac-peace",
   "metadata": {},
   "outputs": [],
   "source": []
  }
 ],
 "metadata": {
  "kernelspec": {
   "display_name": "Python 3",
   "language": "python",
   "name": "python3"
  },
  "language_info": {
   "codemirror_mode": {
    "name": "ipython",
    "version": 3
   },
   "file_extension": ".py",
   "mimetype": "text/x-python",
   "name": "python",
   "nbconvert_exporter": "python",
   "pygments_lexer": "ipython3",
   "version": "3.8.8"
  }
 },
 "nbformat": 4,
 "nbformat_minor": 5
}

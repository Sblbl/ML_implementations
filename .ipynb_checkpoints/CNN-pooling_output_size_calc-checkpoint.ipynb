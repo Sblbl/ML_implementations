{
 "cells": [
  {
   "cell_type": "markdown",
   "id": "asian-favor",
   "metadata": {},
   "source": [
    "# Pooling output size calculator"
   ]
  },
  {
   "cell_type": "code",
   "execution_count": 2,
   "id": "honey-lawrence",
   "metadata": {},
   "outputs": [],
   "source": [
    "def calc_output_size(in_w, in_h, fil_w, fil_h, stride_w, stride_h, padding):\n",
    "    \"\"\" Calculator of output size after conv/pool filtering\n",
    "        Parameters\n",
    "        ----------\n",
    "        in_w: int\n",
    "            The width of the data matrix\n",
    "        in_h: int\n",
    "            The height of the data matrix\n",
    "        fil_w: int\n",
    "            The width of the filter\n",
    "        fil_h: int\n",
    "            The height of the filter\n",
    "        stride_w: int\n",
    "            The striding step (horizontal)\n",
    "        stride_h: int\n",
    "            The striding step (vertical)\n",
    "        padding: ing\n",
    "            The padding size\n",
    "    \"\"\"\n",
    "    out_w = ((in_w - fil_w + 2 * padding)/stride_w) + 1\n",
    "    out_h = ((in_h - fil_h + 2 * padding)/stride_h) + 1\n",
    "    return([out_w, out_h])"
   ]
  },
  {
   "cell_type": "markdown",
   "id": "0fbe5dbf",
   "metadata": {},
   "source": [
    "## Examples"
   ]
  },
  {
   "cell_type": "code",
   "execution_count": 3,
   "id": "musical-record",
   "metadata": {},
   "outputs": [
    {
     "data": {
      "text/plain": [
       "[2.0, 2.0]"
      ]
     },
     "execution_count": 3,
     "metadata": {},
     "output_type": "execute_result"
    }
   ],
   "source": [
    "calc_output_size(4, 4, 2, 2, 2, 2, 0)"
   ]
  }
 ],
 "metadata": {
  "kernelspec": {
   "display_name": "Python 3",
   "language": "python",
   "name": "python3"
  },
  "language_info": {
   "codemirror_mode": {
    "name": "ipython",
    "version": 3
   },
   "file_extension": ".py",
   "mimetype": "text/x-python",
   "name": "python",
   "nbconvert_exporter": "python",
   "pygments_lexer": "ipython3",
   "version": "3.8.8"
  }
 },
 "nbformat": 4,
 "nbformat_minor": 5
}

{
 "cells": [
  {
   "cell_type": "markdown",
   "id": "diagnostic-white",
   "metadata": {},
   "source": [
    "# Linear SVM"
   ]
  },
  {
   "cell_type": "code",
   "execution_count": 1,
   "id": "stopped-webcam",
   "metadata": {},
   "outputs": [],
   "source": [
    "import numpy as np\n",
    "import matplotlib.pyplot as plt\n",
    "%matplotlib inline"
   ]
  },
  {
   "cell_type": "code",
   "execution_count": 2,
   "id": "tough-advisory",
   "metadata": {},
   "outputs": [],
   "source": [
    "def SVM(SV, y):\n",
    "    matrix = []\n",
    "    for i, sv1 in enumerate(SV):\n",
    "        temp = []\n",
    "        for j, sv2 in enumerate(SV):\n",
    "            temp.append(y[j] * np.dot(sv2.T,  sv1))\n",
    "        #temp.append(y[i])\n",
    "        temp.append(1)\n",
    "        matrix.append(np.array(temp))\n",
    "    \n",
    "    y_new = list(y)\n",
    "    y_new.append(0)\n",
    "    y_new = np.array(y_new)\n",
    "    matrix.append(y_new)  \n",
    "    matrix = np.matrix(np.array(matrix))\n",
    "    \n",
    "    matrix_inv = np.linalg.inv(matrix)\n",
    "    \n",
    "    print(matrix)\n",
    "    print(matrix_inv)\n",
    "    print(y_new)\n",
    "    \n",
    "    lambdas = np.dot(np.array(matrix_inv), y_new)\n",
    "    lambdas = np.array(lambdas)\n",
    "    \n",
    "    print(lambdas)\n",
    "    w = []\n",
    "    for i in range(len(SV)):\n",
    "        w.append(y[i] * np.dot(SV[i], lambdas[i]))\n",
    "    w = np.array(w)\n",
    "    W = w.sum(axis=0)\n",
    "    print('w =', W, 'w0 =', lambdas[-1])"
   ]
  },
  {
   "cell_type": "markdown",
   "id": "f8de844b",
   "metadata": {},
   "source": [
    "## Examples"
   ]
  },
  {
   "cell_type": "code",
   "execution_count": 5,
   "id": "mexican-spoke",
   "metadata": {},
   "outputs": [],
   "source": [
    "X = np.array([\n",
    "    [-3, 9], [-2, 4], [-1, 1], [0, 0], [1, 1], [2, 4], [6, 36], [8, 64]\n",
    "])\n",
    "SV_X = np.array([\n",
    "    [-2, 4], [-1, 1], [2, 4]\n",
    "])\n",
    "SV_y = np.array([1, -1, -1])"
   ]
  },
  {
   "cell_type": "code",
   "execution_count": 6,
   "id": "ongoing-migration",
   "metadata": {},
   "outputs": [
    {
     "name": "stdout",
     "output_type": "stream",
     "text": [
      "[[ 20  -6 -12   1]\n",
      " [  6  -2  -2   1]\n",
      " [ 12  -2 -20   1]\n",
      " [  1  -1  -1   0]]\n",
      "[[ 1.25000000e-01 -8.33333333e-02 -4.16666667e-02 -5.00000000e-01]\n",
      " [ 8.33333333e-02 -1.11111111e-01  2.77777778e-02 -1.33333333e+00]\n",
      " [ 4.16666667e-02  2.77777778e-02 -6.94444444e-02 -1.66666667e-01]\n",
      " [-5.00000000e-01  1.33333333e+00  1.66666667e-01  7.40148683e-16]]\n",
      "[ 1 -1 -1  0]\n",
      "[ 0.25        0.16666667  0.08333333 -2.        ]\n",
      "w = [-0.5  0.5] w0 = -2.0\n"
     ]
    }
   ],
   "source": [
    "SVM(SV_X, SV_y)"
   ]
  },
  {
   "cell_type": "code",
   "execution_count": 8,
   "id": "fitted-victim",
   "metadata": {},
   "outputs": [
    {
     "data": {
      "image/png": "[encoded data removed]",
      "text/plain": [
       "<Figure size 432x288 with 1 Axes>"
      ]
     },
     "metadata": {
      "needs_background": "light"
     },
     "output_type": "display_data"
    }
   ],
   "source": [
    "cols = ['cyan', 'cyan', 'orange', 'orange', 'orange', 'orange', 'cyan', 'cyan',]\n",
    "plt.scatter([i[0] for i in X], [i[1] for i in X], color=cols)\n",
    "plt.grid()\n",
    "plt.show()"
   ]
  },
  {
   "cell_type": "code",
   "execution_count": null,
   "id": "social-evidence",
   "metadata": {},
   "outputs": [],
   "source": []
  }
 ],
 "metadata": {
  "kernelspec": {
   "display_name": "Python 3",
   "language": "python",
   "name": "python3"
  },
  "language_info": {
   "codemirror_mode": {
    "name": "ipython",
    "version": 3
   },
   "file_extension": ".py",
   "mimetype": "text/x-python",
   "name": "python",
   "nbconvert_exporter": "python",
   "pygments_lexer": "ipython3",
   "version": "3.8.8"
  }
 },
 "nbformat": 4,
 "nbformat_minor": 5
}

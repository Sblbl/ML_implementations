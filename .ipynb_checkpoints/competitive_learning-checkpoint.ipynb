{
 "cells": [
  {
   "cell_type": "markdown",
   "id": "narrative-error",
   "metadata": {},
   "source": [
    "# Competitive learining"
   ]
  },
  {
   "cell_type": "code",
   "execution_count": 1,
   "id": "professional-bailey",
   "metadata": {},
   "outputs": [],
   "source": [
    "import numpy as np"
   ]
  },
  {
   "cell_type": "code",
   "execution_count": 7,
   "id": "impaired-devices",
   "metadata": {},
   "outputs": [],
   "source": [
    "def euc(x, y):\n",
    "    return np.linalg.norm(x - y)\n",
    "\n",
    "def classify(x, centers):\n",
    "    dist = np.Infinity\n",
    "    center = None\n",
    "    for i, c in enumerate(centers):\n",
    "        d = euc(c, x)\n",
    "        if d < dist:\n",
    "            center = i\n",
    "            dist = d\n",
    "    return (center, dist)\n",
    "\n",
    "def competitive_learning_no_norm(X, n_clusters, C, lr=0.1, max_iter=100, treshold=0.5):\n",
    "    max_diff = np.Infinity\n",
    "    centers = np.copy(C)\n",
    "    old_centers = []\n",
    "    iterations = 0\n",
    "    \n",
    "    while max_diff > treshold and iterations < max_iter:\n",
    "        for i, x in enumerate(X):\n",
    "            iterations += 1\n",
    "            print('------------------------')\n",
    "            print('ITERATION', iterations)\n",
    "            print('------------------------')\n",
    "            print('sample: ', x)\n",
    "            j, dist = classify(x, centers)\n",
    "            print('selected cluster', j, ':', centers[j])\n",
    "            centers[j] = centers[j] + lr * (x-centers[j])\n",
    "            print('updated to: ', centers[j])\n",
    "        print('centers:', centers)\n",
    "        if len(old_centers) > 0:\n",
    "            dists = []\n",
    "            for c, center in enumerate(centers):\n",
    "                dists.append(euc(center, old_centers[c]))\n",
    "            print('dists:', dists)\n",
    "            max_diff = max(dists)\n",
    "        print('MAX DIFF between iterations:', max_diff)\n",
    "        old_centers = centers\n",
    "    centers = old_centers\n",
    "    return centers"
   ]
  },
  {
   "cell_type": "markdown",
   "id": "6604e818",
   "metadata": {},
   "source": [
    "## Examples"
   ]
  },
  {
   "cell_type": "code",
   "execution_count": 8,
   "id": "affiliated-contributor",
   "metadata": {},
   "outputs": [],
   "source": [
    "X = np.array([\n",
    "    [-1, 3],\n",
    "    [1, 4],\n",
    "    [0, 5],\n",
    "    [4, -1],\n",
    "    [3, 0],\n",
    "    [5, 1]\n",
    "])\n",
    "\n",
    "C = np.array([\n",
    "    [-0.5, 1.5],\n",
    "    [0, 2.5],\n",
    "    [1.5, 0]\n",
    "])\n",
    "\n",
    "X_ord = np.array([\n",
    "    [0, 5],\n",
    "    [-1, 3],\n",
    "    [-1, 3],\n",
    "    [3, 0],\n",
    "    [5, 1]\n",
    "])"
   ]
  },
  {
   "cell_type": "code",
   "execution_count": 10,
   "id": "settled-completion",
   "metadata": {},
   "outputs": [
    {
     "name": "stdout",
     "output_type": "stream",
     "text": [
      "------------------------\n",
      "ITERATION 1\n",
      "------------------------\n",
      "sample:  [0 5]\n",
      "selected cluster 1 : [0.  2.5]\n",
      "updated to:  [0.   2.75]\n",
      "------------------------\n",
      "ITERATION 2\n",
      "------------------------\n",
      "sample:  [-1  3]\n",
      "selected cluster 1 : [0.   2.75]\n",
      "updated to:  [-0.1    2.775]\n",
      "------------------------\n",
      "ITERATION 3\n",
      "------------------------\n",
      "sample:  [-1  3]\n",
      "selected cluster 1 : [-0.1    2.775]\n",
      "updated to:  [-0.19    2.7975]\n",
      "------------------------\n",
      "ITERATION 4\n",
      "------------------------\n",
      "sample:  [3 0]\n",
      "selected cluster 2 : [1.5 0. ]\n",
      "updated to:  [1.65 0.  ]\n",
      "------------------------\n",
      "ITERATION 5\n",
      "------------------------\n",
      "sample:  [5 1]\n",
      "selected cluster 2 : [1.65 0.  ]\n",
      "updated to:  [1.985 0.1  ]\n",
      "centers: [[-0.5     1.5   ]\n",
      " [-0.19    2.7975]\n",
      " [ 1.985   0.1   ]]\n",
      "MAX DIFF between iterations: inf\n"
     ]
    }
   ],
   "source": [
    "centroids = competitive_learning_no_norm(X_ord, 3, C, lr=0.1, max_iter=1, treshold=0.1)"
   ]
  },
  {
   "cell_type": "code",
   "execution_count": 11,
   "id": "entitled-young",
   "metadata": {},
   "outputs": [
    {
     "data": {
      "text/plain": [
       "array([[-0.5   ,  1.5   ],\n",
       "       [-0.19  ,  2.7975],\n",
       "       [ 1.985 ,  0.1   ]])"
      ]
     },
     "execution_count": 11,
     "metadata": {},
     "output_type": "execute_result"
    }
   ],
   "source": [
    "centroids"
   ]
  },
  {
   "cell_type": "code",
   "execution_count": 12,
   "id": "aging-million",
   "metadata": {},
   "outputs": [
    {
     "data": {
      "text/plain": [
       "[1, 1, 1, 2, 2, 2]"
      ]
     },
     "execution_count": 12,
     "metadata": {},
     "output_type": "execute_result"
    }
   ],
   "source": [
    "y = []\n",
    "for x in X:\n",
    "    y.append(classify(x, centroids)[0])\n",
    "y"
   ]
  },
  {
   "cell_type": "code",
   "execution_count": 13,
   "id": "surprised-behalf",
   "metadata": {},
   "outputs": [
    {
     "data": {
      "text/plain": [
       "2"
      ]
     },
     "execution_count": 13,
     "metadata": {},
     "output_type": "execute_result"
    }
   ],
   "source": [
    "classify(np.array([0, -2]), centroids)[0]"
   ]
  },
  {
   "cell_type": "code",
   "execution_count": null,
   "id": "solid-vehicle",
   "metadata": {},
   "outputs": [],
   "source": []
  }
 ],
 "metadata": {
  "kernelspec": {
   "display_name": "Python 3",
   "language": "python",
   "name": "python3"
  },
  "language_info": {
   "codemirror_mode": {
    "name": "ipython",
    "version": 3
   },
   "file_extension": ".py",
   "mimetype": "text/x-python",
   "name": "python",
   "nbconvert_exporter": "python",
   "pygments_lexer": "ipython3",
   "version": "3.8.8"
  }
 },
 "nbformat": 4,
 "nbformat_minor": 5
}

{
 "cells": [
  {
   "cell_type": "markdown",
   "id": "fantastic-karaoke",
   "metadata": {},
   "source": [
    "# KNN"
   ]
  },
  {
   "cell_type": "code",
   "execution_count": 1,
   "id": "responsible-conversion",
   "metadata": {},
   "outputs": [],
   "source": [
    "import numpy as np"
   ]
  },
  {
   "cell_type": "code",
   "execution_count": 6,
   "id": "stainless-payroll",
   "metadata": {},
   "outputs": [],
   "source": [
    "def euc(x, y):\n",
    "    return np.linalg.norm(x - y)\n",
    "def KNN(X, y, sample, k=3):\n",
    "    distances = []\n",
    "    # calculate every distance\n",
    "    for i, x in enumerate(X):\n",
    "        distances.append(euc(sample, x))            \n",
    "    # get the k - smallest distances\n",
    "    d_ord = distances\n",
    "    d_ord.sort()\n",
    "    neigh_dists = d_ord[:k]\n",
    "    neighbours = []\n",
    "    neigh_classes = []\n",
    "    # get the neighbours of the sample\n",
    "    for neigh_dist in neigh_dists:\n",
    "        idx = distances.index(neigh_dist)\n",
    "        neighbours.append(X[idx])\n",
    "        neigh_classes.append(y[idx])\n",
    "    print('Neighbours: ', neighbours)\n",
    "    print('of classes: ', neigh_classes)"
   ]
  },
  {
   "cell_type": "code",
   "execution_count": 3,
   "id": "continued-portugal",
   "metadata": {},
   "outputs": [],
   "source": [
    "X = np.array([\n",
    "    [0.15, 0.35],\n",
    "    [0.15, 0.28],\n",
    "    [0.12, 0.2],\n",
    "    [0.1, 0.32], \n",
    "    [0.06, 0.25]\n",
    "])\n",
    "y = np.array([1, 2, 2, 3, 3])\n",
    "sample = np.array([0.1, 0.25])"
   ]
  },
  {
   "cell_type": "code",
   "execution_count": 7,
   "id": "automated-employee",
   "metadata": {},
   "outputs": [
    {
     "name": "stdout",
     "output_type": "stream",
     "text": [
      "Neighbours:  [array([0.15, 0.35]), array([0.15, 0.28]), array([0.12, 0.2 ])]\n",
      "of classes:  [1, 2, 2]\n"
     ]
    }
   ],
   "source": [
    "KNN(X, y, sample, k=3)"
   ]
  },
  {
   "cell_type": "code",
   "execution_count": 8,
   "id": "perceived-reservoir",
   "metadata": {},
   "outputs": [
    {
     "name": "stdout",
     "output_type": "stream",
     "text": [
      "Neighbours:  [array([0.15, 0.35])]\n",
      "of classes:  [1]\n"
     ]
    }
   ],
   "source": [
    "KNN(X, y, sample, k=1)"
   ]
  },
  {
   "cell_type": "code",
   "execution_count": null,
   "id": "thirty-jacob",
   "metadata": {},
   "outputs": [],
   "source": []
  }
 ],
 "metadata": {
  "kernelspec": {
   "display_name": "Python 3",
   "language": "python",
   "name": "python3"
  },
  "language_info": {
   "codemirror_mode": {
    "name": "ipython",
    "version": 3
   },
   "file_extension": ".py",
   "mimetype": "text/x-python",
   "name": "python",
   "nbconvert_exporter": "python",
   "pygments_lexer": "ipython3",
   "version": "3.8.8"
  }
 },
 "nbformat": 4,
 "nbformat_minor": 5
}

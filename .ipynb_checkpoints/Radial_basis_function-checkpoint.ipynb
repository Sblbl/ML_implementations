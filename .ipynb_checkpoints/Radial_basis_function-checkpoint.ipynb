{
 "cells": [
  {
   "cell_type": "markdown",
   "id": "veterinary-roller",
   "metadata": {},
   "source": [
    "# Radial Basis Functions"
   ]
  },
  {
   "cell_type": "code",
   "execution_count": 1,
   "id": "divine-health",
   "metadata": {},
   "outputs": [],
   "source": [
    "import numpy as np\n",
    "from itertools import combinations "
   ]
  },
  {
   "cell_type": "code",
   "execution_count": 87,
   "id": "perceived-electricity",
   "metadata": {},
   "outputs": [],
   "source": [
    "def gaussian(x, sigma):\n",
    "    return np.exp((-x**2)/(2*sigma**2))\n",
    "\n",
    "def max_sigma(centres):\n",
    "    combos = combinations(centres, 2) \n",
    "    sigma = []\n",
    "    for c in combos:\n",
    "        sigma.append(np.linalg.norm(c[0] - c[1]))\n",
    "    return max(sigma)\n",
    "\n",
    "def RBF(X, y, centres, function='gaussian'):\n",
    "    \"\"\" RBF implementation\n",
    "    RBF is sort of NN but the hidden layers use RB functions \n",
    "    as activation functions and between input and hidden layers\n",
    "    there is no bias\n",
    "    \n",
    "    Parameters:\n",
    "    -----------\n",
    "    X : np.array\n",
    "        the input data\n",
    "    y : np.array\n",
    "        the class assigned to each sample\n",
    "    centres : np.array\n",
    "        the RBF centres\n",
    "    function : ['gaussian']\n",
    "        the RB function to apply in the hidden layers \n",
    "    Returns:\n",
    "    ---------\n",
    "    Z : the output of the RBF\n",
    "    \"\"\"\n",
    "    sigma = max_sigma(centres)/np.sqrt(2*len(centres))\n",
    "    print('sigma:', sigma)\n",
    "    \n",
    "    HL = []\n",
    "    \n",
    "    for i, x in enumerate(X):\n",
    "        hl = []\n",
    "        for centre in centres:\n",
    "            hl.append(gaussian(np.linalg.norm(x - centre), sigma))\n",
    "        HL.append(np.append(np.array(hl), 1))\n",
    "    HL = np.array(HL)\n",
    "    #print(HL)\n",
    "    # DERIVE THE WEIGHTS (one for each center + bias)\n",
    "    W = np.dot(np.linalg.inv(np.dot(HL.T, HL)), np.dot(HL.T, y))\n",
    "    print('Weights + bias:', W)\n",
    "    for i, x in enumerate(X):\n",
    "        print('--------------')\n",
    "        print('Sample', i, ':', x)\n",
    "        print('HL:', HL[i][:-1])\n",
    "        z = np.dot(HL[i], W)\n",
    "        print('zi:', z)\n",
    "        y_hat = (np.sign(z)+1)/2\n",
    "        print('y_hat:', y_hat)"
   ]
  },
  {
   "cell_type": "markdown",
   "id": "811fc018",
   "metadata": {},
   "source": [
    "## Examples"
   ]
  },
  {
   "cell_type": "code",
   "execution_count": 2,
   "id": "delayed-confidentiality",
   "metadata": {},
   "outputs": [],
   "source": [
    "X = np.array([\n",
    "    [0, 0],\n",
    "    [0, 1],\n",
    "    [1, 0],\n",
    "    [1, 1]\n",
    "])\n",
    "y = np.array([0, 1, 1, 0])\n",
    "centres = np.array([\n",
    "    [0, 0],\n",
    "    [1, 1]\n",
    "])"
   ]
  },
  {
   "cell_type": "code",
   "execution_count": 88,
   "id": "dried-variety",
   "metadata": {},
   "outputs": [
    {
     "name": "stdout",
     "output_type": "stream",
     "text": [
      "sigma: 0.7071067811865476\n",
      "Weights + bias: [-2.502650 -2.502650 2.841347]\n",
      "--------------\n",
      "Sample 0 : [0 0]\n",
      "HL: [1.000000 0.135335]\n",
      "zi: -1.7763568394002505e-15\n",
      "y_hat: 0.0\n",
      "--------------\n",
      "Sample 1 : [0 1]\n",
      "HL: [0.367879 0.367879]\n",
      "zi: 0.9999999999999991\n",
      "y_hat: 1.0\n",
      "--------------\n",
      "Sample 2 : [1 0]\n",
      "HL: [0.367879 0.367879]\n",
      "zi: 0.9999999999999991\n",
      "y_hat: 1.0\n",
      "--------------\n",
      "Sample 3 : [1 1]\n",
      "HL: [0.135335 1.000000]\n",
      "zi: -1.7763568394002505e-15\n",
      "y_hat: 0.0\n"
     ]
    }
   ],
   "source": [
    "RBF(X, y, centres, function='gaussian')"
   ]
  },
  {
   "cell_type": "code",
   "execution_count": null,
   "id": "isolated-diploma",
   "metadata": {},
   "outputs": [],
   "source": []
  }
 ],
 "metadata": {
  "kernelspec": {
   "display_name": "Python 3",
   "language": "python",
   "name": "python3"
  },
  "language_info": {
   "codemirror_mode": {
    "name": "ipython",
    "version": 3
   },
   "file_extension": ".py",
   "mimetype": "text/x-python",
   "name": "python",
   "nbconvert_exporter": "python",
   "pygments_lexer": "ipython3",
   "version": "3.8.8"
  }
 },
 "nbformat": 4,
 "nbformat_minor": 5
}

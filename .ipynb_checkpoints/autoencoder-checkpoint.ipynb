{
 "cells": [
  {
   "cell_type": "markdown",
   "id": "rocky-division",
   "metadata": {},
   "source": [
    "# Autoencoder"
   ]
  },
  {
   "cell_type": "markdown",
   "id": "surface-adelaide",
   "metadata": {},
   "source": [
    "<img src='img/autoencoder.png' style='height:300px; width: auto;'/>"
   ]
  },
  {
   "cell_type": "code",
   "execution_count": 1,
   "id": "settled-channel",
   "metadata": {},
   "outputs": [],
   "source": [
    "import numpy as np"
   ]
  },
  {
   "cell_type": "code",
   "execution_count": 32,
   "id": "valuable-passport",
   "metadata": {},
   "outputs": [],
   "source": [
    "def heaviside(X, t):\n",
    "    return np.where((X-t) != 0, np.maximum(0, np.sign(X-t)), 0.5) \n",
    "def sigmoid(X):\n",
    "    return 1/(1+np.exp(-X))\n",
    "def euc(x, z):\n",
    "    return np.linalg.norm(x - z)\n",
    "\n",
    "def autoencoder(X, Wji):\n",
    "    \"\"\" Simple Autoencoder\n",
    "        Parameters\n",
    "        ----------\n",
    "        X: np.array\n",
    "            Feature vectors\n",
    "        Wji: np.array\n",
    "            Weights (same for encoder and decoder)\n",
    "    \"\"\"\n",
    "    # ENCODING\n",
    "    encoded = []\n",
    "    for i, x in enumerate(X):\n",
    "        encoded.append(sigmoid(np.matmul(Wji, x)))\n",
    "    encoded = np.array(encoded)\n",
    "    print('encoded:', encoded)\n",
    "    # DECODING\n",
    "    decoded = []\n",
    "    for i, y in enumerate(encoded):\n",
    "        decoded.append(sigmoid(np.matmul(Wji.T, y)))\n",
    "    decoded = np.array(decoded)\n",
    "    print('decoded:', decoded)\n",
    "    error = euc(X, decoded)\n",
    "    print('error:', error)"
   ]
  },
  {
   "cell_type": "markdown",
   "id": "b478ce7c",
   "metadata": {},
   "source": [
    "## Examples"
   ]
  },
  {
   "cell_type": "code",
   "execution_count": 33,
   "id": "independent-repair",
   "metadata": {},
   "outputs": [],
   "source": [
    "Wji = np.array([\n",
    "    [-0.7057, 1.9061, 2.6605, -1.1359], \n",
    "    [0.4900, 1.9324, -0.4269, -5.1570],\n",
    "    [0.9438, -5.4160, -0.3431, -0.2931],\n",
    "    [0.5421, -2.4902, 0.4890, 1.2931]\n",
    "               ])\n",
    "X = np.array([\n",
    "    [1, 0, 1, 0], \n",
    "    [0, 1, 0, 1],\n",
    "    [1, 1, 0, 0],\n",
    "             ])"
   ]
  },
  {
   "cell_type": "code",
   "execution_count": 34,
   "id": "imposed-uruguay",
   "metadata": {},
   "outputs": [
    {
     "name": "stdout",
     "output_type": "stream",
     "text": [
      "encoded: [[0.87596909 0.51576977 0.64581644 0.7371291 ]\n",
      " [0.68356416 0.0382504  0.0033047  0.23199151]\n",
      " [0.76859593 0.91851954 0.01129317 0.12476068]]\n",
      "decoded: [[0.65558373 0.06494998 0.90458238 0.052603  ]\n",
      " [0.4170812  0.68595015 0.87153543 0.33744563]\n",
      " [0.49649198 0.94624806 0.846819   0.00427011]]\n",
      "error: 1.606044600671333\n"
     ]
    }
   ],
   "source": [
    "autoencoder(X, Wji)"
   ]
  },
  {
   "cell_type": "code",
   "execution_count": null,
   "id": "horizontal-subscription",
   "metadata": {},
   "outputs": [],
   "source": []
  }
 ],
 "metadata": {
  "kernelspec": {
   "display_name": "Python 3",
   "language": "python",
   "name": "python3"
  },
  "language_info": {
   "codemirror_mode": {
    "name": "ipython",
    "version": 3
   },
   "file_extension": ".py",
   "mimetype": "text/x-python",
   "name": "python",
   "nbconvert_exporter": "python",
   "pygments_lexer": "ipython3",
   "version": "3.8.8"
  }
 },
 "nbformat": 4,
 "nbformat_minor": 5
}

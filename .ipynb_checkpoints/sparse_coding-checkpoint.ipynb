{
 "cells": [
  {
   "cell_type": "markdown",
   "id": "twelve-tutorial",
   "metadata": {},
   "source": [
    "# Sparse coding"
   ]
  },
  {
   "cell_type": "markdown",
   "id": "429d0447",
   "metadata": {},
   "source": [
    "<img src=\"img/sparsecoding.png\" style=\"height:300px;\">"
   ]
  },
  {
   "cell_type": "code",
   "execution_count": 1,
   "id": "advance-federation",
   "metadata": {},
   "outputs": [],
   "source": [
    "import numpy as np"
   ]
  },
  {
   "cell_type": "code",
   "execution_count": 52,
   "id": "cordless-iraqi",
   "metadata": {},
   "outputs": [],
   "source": [
    "def sparse_coding(x, V, y):\n",
    "    result = x - np.dot(V.T, y.reshape(-1, 1))\n",
    "    error = np.linalg.norm(result)\n",
    "    print('result:', result)\n",
    "    print('error:', error)"
   ]
  },
  {
   "cell_type": "markdown",
   "id": "951a52ed",
   "metadata": {},
   "source": [
    "## Examples"
   ]
  },
  {
   "cell_type": "code",
   "execution_count": 53,
   "id": "consolidated-billion",
   "metadata": {},
   "outputs": [],
   "source": [
    "x = np.array([\n",
    "    [-0.05], \n",
    "    [-0.95]\n",
    "])\n",
    "\n",
    "V = np.array([\n",
    "    [0.4, -0.6], \n",
    "    [0.55, -0.45], \n",
    "    [0.5, -0.5], \n",
    "    [-0.1, 0.9], \n",
    "    [-0.5, -0.5], \n",
    "    [0.9, 0.1], \n",
    "    [0.5, 0.5], \n",
    "    [0.45, 0.55]\n",
    "])\n",
    "\n",
    "y_1 = np.array([1, 0, 0, 0, 1, 0, 0, 0])\n",
    "y_2 = np.array([0,0, 1, 0, 0, 0, -1, 0])"
   ]
  },
  {
   "cell_type": "code",
   "execution_count": 54,
   "id": "placed-fashion",
   "metadata": {},
   "outputs": [
    {
     "name": "stdout",
     "output_type": "stream",
     "text": [
      "result: [[0.05]\n",
      " [0.15]]\n",
      "error: 0.15811388300841908\n",
      "result: [[-0.05]\n",
      " [ 0.05]]\n",
      "error: 0.07071067811865478\n"
     ]
    },
    {
     "data": {
      "text/plain": [
       "(None, None)"
      ]
     },
     "execution_count": 54,
     "metadata": {},
     "output_type": "execute_result"
    }
   ],
   "source": [
    "sparse_coding(x, V, y_1), sparse_coding(x, V, y_2)"
   ]
  },
  {
   "cell_type": "markdown",
   "id": "gross-frank",
   "metadata": {},
   "source": [
    "Both alternatives are equally sparse (2 non-zero elements each), so the best will be the one with the lowest reconstruction error, y_2"
   ]
  },
  {
   "cell_type": "code",
   "execution_count": 55,
   "id": "optional-space",
   "metadata": {},
   "outputs": [],
   "source": [
    "y_3 = np.array([1, 0, 0, 0, 1, 0, 0, 0])\n",
    "y_4 = np.array([0, 0, 0, -1, 0, 0, 0, 0])"
   ]
  },
  {
   "cell_type": "code",
   "execution_count": 56,
   "id": "designing-survey",
   "metadata": {},
   "outputs": [
    {
     "name": "stdout",
     "output_type": "stream",
     "text": [
      "result: [[0.05]\n",
      " [0.15]]\n",
      "error: 0.15811388300841908\n",
      "result: [[-0.15]\n",
      " [-0.05]]\n",
      "error: 0.15811388300841897\n"
     ]
    },
    {
     "data": {
      "text/plain": [
       "(None, None)"
      ]
     },
     "execution_count": 56,
     "metadata": {},
     "output_type": "execute_result"
    }
   ],
   "source": [
    "sparse_coding(x, V, y_3), sparse_coding(x, V, y_4)"
   ]
  },
  {
   "cell_type": "markdown",
   "id": "informative-attention",
   "metadata": {},
   "source": [
    "error is the same in both cases. We should therefore prefer the sparser solution 4"
   ]
  }
 ],
 "metadata": {
  "kernelspec": {
   "display_name": "Python 3",
   "language": "python",
   "name": "python3"
  },
  "language_info": {
   "codemirror_mode": {
    "name": "ipython",
    "version": 3
   },
   "file_extension": ".py",
   "mimetype": "text/x-python",
   "name": "python",
   "nbconvert_exporter": "python",
   "pygments_lexer": "ipython3",
   "version": "3.8.8"
  }
 },
 "nbformat": 4,
 "nbformat_minor": 5
}

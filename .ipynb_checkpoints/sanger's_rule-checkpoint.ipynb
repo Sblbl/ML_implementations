{
 "cells": [
  {
   "cell_type": "markdown",
   "id": "excited-companion",
   "metadata": {},
   "source": [
    "# Sanger's rule for PCA"
   ]
  },
  {
   "cell_type": "markdown",
   "id": "african-bibliography",
   "metadata": {},
   "source": [
    "<img src='img/sangers.png' style='height:300px; width:auto;'/>"
   ]
  },
  {
   "cell_type": "code",
   "execution_count": 1,
   "id": "increased-manual",
   "metadata": {},
   "outputs": [],
   "source": [
    "import numpy as np"
   ]
  },
  {
   "cell_type": "code",
   "execution_count": 12,
   "id": "otherwise-butterfly",
   "metadata": {},
   "outputs": [],
   "source": [
    "def neuron(x, w):\n",
    "    return np.dot(x, w)\n",
    "\n",
    "def sangers_rule(x, w, n_dim, lr=0.01):\n",
    "    # ATTENTION: weights need to be into a list\n",
    "    # a weight array for each projected dimension\n",
    "    # w1 -> [w1]\n",
    "    input_x = x\n",
    "    Y = []\n",
    "    sum_yk_wkj = 0\n",
    "    \n",
    "    for dim in range(n_dim):\n",
    "        print('-------------------')\n",
    "        print('DIMENSION:', dim + 1)\n",
    "        # if we already have a dimension\n",
    "        \n",
    "        if dim > 0:\n",
    "            input_x = input_x - np.dot(Y[dim - 1], w)\n",
    "        \n",
    "        yi = neuron(input_x, w)\n",
    "        Y.append(yi)\n",
    "        print('projected:', yi)\n",
    "        \n",
    "        sum_yk_wkj += yi * w\n",
    "        print('sum of yk * wkj:', sum_yk_wkj)\n",
    "        \n",
    "        delta_w = lr * yi * (input_x - sum_yk_wkj)\n",
    "        print('delta_w:', delta_w)\n",
    "        \n",
    "        w += delta_w\n",
    "        print('new w:', w)\n",
    "    print('====================')\n",
    "    print('Projection:', Y)"
   ]
  },
  {
   "cell_type": "markdown",
   "id": "f0291afd",
   "metadata": {},
   "source": [
    "## Examples"
   ]
  },
  {
   "cell_type": "code",
   "execution_count": 2,
   "id": "exclusive-alexandria",
   "metadata": {},
   "outputs": [],
   "source": [
    "x = np.array([0.1, -0.2, 0.4, -0.8])\n",
    "w = np.array([0.9, 0.8, 0.5, 0.1])"
   ]
  },
  {
   "cell_type": "code",
   "execution_count": 13,
   "id": "skilled-surveillance",
   "metadata": {},
   "outputs": [
    {
     "name": "stdout",
     "output_type": "stream",
     "text": [
      "-------------------\n",
      "DIMENSION: 1\n",
      "projected: 0.05025383311154652\n",
      "sum of yk * wkj: [0.04522975 0.04019988 0.02513281 0.00501334]\n",
      "delta_w: [ 2.75241501e-05 -1.20709648e-04  1.88385131e-04 -4.04550063e-04]\n",
      "new w: [0.90005339 0.79981594 0.50030571 0.09935589]\n",
      "-------------------\n",
      "DIMENSION: 2\n",
      "projected: -0.03525327976610215\n",
      "sum of yk * wkj: [0.01349992 0.01200375 0.0074954  0.00151072]\n",
      "delta_w: [-1.45486588e-05  8.89079130e-05 -1.29507268e-04  2.84319019e-04]\n",
      "new w: [0.90003884 0.79990485 0.5001762  0.09964021]\n",
      "====================\n",
      "Projection: [0.05025383311154652, -0.03525327976610215]\n"
     ]
    }
   ],
   "source": [
    "sangers_rule(x, w, 2, lr=0.01)"
   ]
  },
  {
   "cell_type": "code",
   "execution_count": null,
   "id": "rolled-straight",
   "metadata": {},
   "outputs": [],
   "source": []
  }
 ],
 "metadata": {
  "kernelspec": {
   "display_name": "Python 3",
   "language": "python",
   "name": "python3"
  },
  "language_info": {
   "codemirror_mode": {
    "name": "ipython",
    "version": 3
   },
   "file_extension": ".py",
   "mimetype": "text/x-python",
   "name": "python",
   "nbconvert_exporter": "python",
   "pygments_lexer": "ipython3",
   "version": "3.8.8"
  }
 },
 "nbformat": 4,
 "nbformat_minor": 5
}

{
 "cells": [
  {
   "cell_type": "markdown",
   "id": "tough-retailer",
   "metadata": {},
   "source": [
    "# Competitive learning network"
   ]
  },
  {
   "cell_type": "code",
   "execution_count": 1,
   "id": "current-chick",
   "metadata": {},
   "outputs": [],
   "source": [
    "import numpy as np"
   ]
  },
  {
   "cell_type": "code",
   "execution_count": 18,
   "id": "arabic-release",
   "metadata": {},
   "outputs": [],
   "source": [
    "def heaviside(X, t):\n",
    "    return np.where((X-t) != 0, np.maximum(0, np.sign(X-t)), 0.5) \n",
    "def sigmoid(X):\n",
    "    return 1/(1+np.exp(-X))\n",
    "\n",
    "def forward_propagation(x, Wji, mode='winner_takes_all', k=1): \n",
    "    \"\"\" Competitive Learning Forward Propagation\n",
    "        Parameters\n",
    "        ----------\n",
    "        x: np.array\n",
    "            vector\n",
    "        Wji: np.array\n",
    "            Weight vector\n",
    "        mode: ['winner_takes_all', 'k-winner_take_all', 'softmax']\n",
    "            Learning strategy\n",
    "        k: int\n",
    "            Only for 'k-winner_take_all' mode. The number of winners\n",
    "    \"\"\"\n",
    "    print('--------------')\n",
    "    print('x:', x)\n",
    "    y = sigmoid(np.matmul(Wji, x))\n",
    "    print('y:', y)\n",
    "    print('mode:', mode)\n",
    "    output = []\n",
    "    if mode == 'winner_takes_all':\n",
    "        idx = list(y).index(np.max(y)) \n",
    "        for i, out in enumerate(y):\n",
    "            if i != idx:\n",
    "                output.append(0)\n",
    "            else:\n",
    "                output.append(out)\n",
    "        output = np.array(output).reshape(len(y), 1)\n",
    "    elif mode == 'k-winner_take_all':\n",
    "        temp = np.copy(y)\n",
    "        temp = temp[np.argpartition(temp,-k)[-k:]]\n",
    "        for el in y:\n",
    "            if el in temp:\n",
    "                output.append(el)\n",
    "            else:\n",
    "                output.append(0)\n",
    "    elif mode == 'softmax':\n",
    "        output = np.exp(y) / np.sum(np.exp(y))\n",
    "    else:\n",
    "        print('invalid mode')\n",
    "    print('output:', output)"
   ]
  },
  {
   "cell_type": "markdown",
   "id": "73cfff4f",
   "metadata": {},
   "source": [
    "## Examples"
   ]
  },
  {
   "cell_type": "code",
   "execution_count": 19,
   "id": "fluid-hours",
   "metadata": {},
   "outputs": [],
   "source": [
    "Wji = np.array([\n",
    "    [-0.7057, 1.9061, 2.6605, -1.1359], \n",
    "    [0.4900, 1.9324, -0.4269, -5.1570],\n",
    "    [0.9438, -5.4160, -0.3431, -0.2931]\n",
    "               ])\n",
    "X = np.array([\n",
    "    [1, 0, 1, 0], \n",
    "    [0, 1, 0, 1],\n",
    "    [1, 1, 0, 0],\n",
    "             ])"
   ]
  },
  {
   "cell_type": "code",
   "execution_count": 20,
   "id": "complimentary-audience",
   "metadata": {},
   "outputs": [
    {
     "name": "stdout",
     "output_type": "stream",
     "text": [
      "--------------\n",
      "x: [1 0 1 0]\n",
      "y: [0.87596909 0.51576977 0.64581644]\n",
      "mode: winner_takes_all\n",
      "output: [[0.87596909]\n",
      " [0.        ]\n",
      " [0.        ]]\n",
      "--------------\n",
      "x: [0 1 0 1]\n",
      "y: [0.68356416 0.0382504  0.0033047 ]\n",
      "mode: winner_takes_all\n",
      "output: [[0.68356416]\n",
      " [0.        ]\n",
      " [0.        ]]\n",
      "--------------\n",
      "x: [1 1 0 0]\n",
      "y: [0.76859593 0.91851954 0.01129317]\n",
      "mode: winner_takes_all\n",
      "output: [[0.        ]\n",
      " [0.91851954]\n",
      " [0.        ]]\n"
     ]
    }
   ],
   "source": [
    "for x in X:\n",
    "    forward_propagation(x, Wji, mode='winner_takes_all')"
   ]
  },
  {
   "cell_type": "code",
   "execution_count": 21,
   "id": "considered-tablet",
   "metadata": {},
   "outputs": [
    {
     "name": "stdout",
     "output_type": "stream",
     "text": [
      "--------------\n",
      "x: [1 0 1 0]\n",
      "y: [0.87596909 0.51576977 0.64581644]\n",
      "mode: k-winner_take_all\n",
      "output: [0.8759690904138607, 0, 0.6458164388605466]\n",
      "--------------\n",
      "x: [0 1 0 1]\n",
      "y: [0.68356416 0.0382504  0.0033047 ]\n",
      "mode: k-winner_take_all\n",
      "output: [0.6835641561645719, 0.038250403972647215, 0]\n",
      "--------------\n",
      "x: [1 1 0 0]\n",
      "y: [0.76859593 0.91851954 0.01129317]\n",
      "mode: k-winner_take_all\n",
      "output: [0.768595933632098, 0.918519544389819, 0]\n"
     ]
    }
   ],
   "source": [
    "for x in X:\n",
    "    forward_propagation(x, Wji, mode='k-winner_take_all', k=2)"
   ]
  },
  {
   "cell_type": "code",
   "execution_count": 22,
   "id": "voluntary-oxford",
   "metadata": {},
   "outputs": [
    {
     "name": "stdout",
     "output_type": "stream",
     "text": [
      "--------------\n",
      "x: [1 0 1 0]\n",
      "y: [0.87596909 0.51576977 0.64581644]\n",
      "mode: softmax\n",
      "output: [0.40129222 0.27991629 0.31879149]\n",
      "--------------\n",
      "x: [0 1 0 1]\n",
      "y: [0.68356416 0.0382504  0.0033047 ]\n",
      "mode: softmax\n",
      "output: [0.49237229 0.25824826 0.24937946]\n",
      "--------------\n",
      "x: [1 1 0 0]\n",
      "y: [0.76859593 0.91851954 0.01129317]\n",
      "mode: softmax\n",
      "output: [0.38013057 0.44161498 0.17825445]\n"
     ]
    }
   ],
   "source": [
    "for x in X:\n",
    "    forward_propagation(x, Wji, mode='softmax', k=2)"
   ]
  },
  {
   "cell_type": "code",
   "execution_count": null,
   "id": "ultimate-clinton",
   "metadata": {},
   "outputs": [],
   "source": []
  }
 ],
 "metadata": {
  "kernelspec": {
   "display_name": "Python 3",
   "language": "python",
   "name": "python3"
  },
  "language_info": {
   "codemirror_mode": {
    "name": "ipython",
    "version": 3
   },
   "file_extension": ".py",
   "mimetype": "text/x-python",
   "name": "python",
   "nbconvert_exporter": "python",
   "pygments_lexer": "ipython3",
   "version": "3.8.8"
  }
 },
 "nbformat": 4,
 "nbformat_minor": 5
}

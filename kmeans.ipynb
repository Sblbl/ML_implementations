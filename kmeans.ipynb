{
 "cells": [
  {
   "cell_type": "markdown",
   "id": "greenhouse-channels",
   "metadata": {},
   "source": [
    "# K-means"
   ]
  },
  {
   "cell_type": "code",
   "execution_count": 65,
   "id": "hydraulic-belief",
   "metadata": {},
   "outputs": [],
   "source": [
    "def euc(x, y):\n",
    "    return np.linalg.norm(x - y)\n",
    "\n",
    "def k_means(X, centers, max_iter=100):\n",
    "    changed = True\n",
    "    clusters = {}\n",
    "    for c in centers:\n",
    "        clusters[c] = []\n",
    "    iteration = 0\n",
    "    while changed == True and iteration < max_iter:\n",
    "        change_happened = False\n",
    "        new_clusters = {}\n",
    "        for cent in clusters.keys():\n",
    "            new_clusters[cent] = []\n",
    "        print('-----------------------------')\n",
    "        iteration += 1\n",
    "        for i, x in enumerate(X):\n",
    "            dists = []\n",
    "            for c, center in enumerate(centers):\n",
    "                cent = np.array(list(center))\n",
    "                dists.append(euc(x, center))\n",
    "            closest = centers[dists.index(min(dists))]\n",
    "            new_clusters[closest].append(x)\n",
    "        # recompute centers \n",
    "        for cent, points in new_clusters.items():\n",
    "            new_cent = tuple(list(np.mean(np.array(points), axis=0)))\n",
    "            if new_cent != cent:\n",
    "                new_clusters.pop(cent)\n",
    "                new_clusters[new_cent] = points\n",
    "                change_happened = True\n",
    "        print('old clusters:', clusters)\n",
    "        print('new clusters:', new_clusters)\n",
    "        \n",
    "        if change_happened == False:\n",
    "            changed = False\n",
    "        clusters = new_clusters\n",
    "        centers = list(clusters.keys())"
   ]
  },
  {
   "cell_type": "markdown",
   "id": "5a65c5ab",
   "metadata": {},
   "source": [
    "## Examples"
   ]
  },
  {
   "cell_type": "code",
   "execution_count": 58,
   "id": "reduced-teach",
   "metadata": {},
   "outputs": [],
   "source": [
    "X = np.array([\n",
    "    [-1, 3], \n",
    "    [1, 4], \n",
    "    [0, 5], \n",
    "    [4, -1], \n",
    "    [3, 0], \n",
    "    [5, 1]\n",
    "])\n",
    "centers = [\n",
    "    (-1, 3),\n",
    "    (5, 1)\n",
    "]"
   ]
  },
  {
   "cell_type": "code",
   "execution_count": 66,
   "id": "novel-roads",
   "metadata": {},
   "outputs": [
    {
     "name": "stdout",
     "output_type": "stream",
     "text": [
      "-----------------------------\n",
      "old clusters: {(-1, 3): [], (5, 1): []}\n",
      "new clusters: {(0.0, 4.0): [array([-1,  3]), array([1, 4]), array([0, 5])], (4.0, 0.0): [array([ 4, -1]), array([3, 0]), array([5, 1])]}\n",
      "-----------------------------\n",
      "old clusters: {(0.0, 4.0): [array([-1,  3]), array([1, 4]), array([0, 5])], (4.0, 0.0): [array([ 4, -1]), array([3, 0]), array([5, 1])]}\n",
      "new clusters: {(0.0, 4.0): [array([-1,  3]), array([1, 4]), array([0, 5])], (4.0, 0.0): [array([ 4, -1]), array([3, 0]), array([5, 1])]}\n"
     ]
    }
   ],
   "source": [
    "k_means(X, centers, max_iter=100)"
   ]
  },
  {
   "cell_type": "code",
   "execution_count": 1,
   "id": "circular-conditions",
   "metadata": {},
   "outputs": [],
   "source": [
    "from sklearn.cluster import KMeans\n",
    "import numpy as np"
   ]
  },
  {
   "cell_type": "code",
   "execution_count": 2,
   "id": "straight-desire",
   "metadata": {},
   "outputs": [],
   "source": [
    "X = np.array([\n",
    "    [-1, 3], \n",
    "    [1, 4], \n",
    "    [0, 5], \n",
    "    [4, -1], \n",
    "    [3, 0], \n",
    "    [5, 1]\n",
    "])\n",
    "centers = np.array([\n",
    "    [-1, 3],\n",
    "    [5, 1]\n",
    "])"
   ]
  },
  {
   "cell_type": "code",
   "execution_count": 3,
   "id": "social-supplement",
   "metadata": {},
   "outputs": [
    {
     "name": "stderr",
     "output_type": "stream",
     "text": [
      "/opt/anaconda3/lib/python3.7/site-packages/ipykernel_launcher.py:1: RuntimeWarning: Explicit initial center position passed: performing only one init in k-means instead of n_init=10\n",
      "  \"\"\"Entry point for launching an IPython kernel.\n"
     ]
    }
   ],
   "source": [
    "kmeans = KMeans(n_clusters=2, init=centers,random_state=0).fit(X)"
   ]
  },
  {
   "cell_type": "code",
   "execution_count": 4,
   "id": "rising-basin",
   "metadata": {},
   "outputs": [
    {
     "data": {
      "text/plain": [
       "array([[0., 4.],\n",
       "       [4., 0.]])"
      ]
     },
     "execution_count": 4,
     "metadata": {},
     "output_type": "execute_result"
    }
   ],
   "source": [
    "kmeans.cluster_centers_"
   ]
  },
  {
   "cell_type": "code",
   "execution_count": 5,
   "id": "false-december",
   "metadata": {},
   "outputs": [
    {
     "data": {
      "text/plain": [
       "array([0, 0, 0, 1, 1, 1], dtype=int32)"
      ]
     },
     "execution_count": 5,
     "metadata": {},
     "output_type": "execute_result"
    }
   ],
   "source": [
    "kmeans.labels_"
   ]
  },
  {
   "cell_type": "code",
   "execution_count": 6,
   "id": "equal-boost",
   "metadata": {},
   "outputs": [
    {
     "data": {
      "text/plain": [
       "array([1, 0], dtype=int32)"
      ]
     },
     "execution_count": 6,
     "metadata": {},
     "output_type": "execute_result"
    }
   ],
   "source": [
    "kmeans.predict([[5, 0], [4, 4]])"
   ]
  },
  {
   "cell_type": "code",
   "execution_count": null,
   "id": "potential-amateur",
   "metadata": {},
   "outputs": [],
   "source": []
  }
 ],
 "metadata": {
  "kernelspec": {
   "display_name": "Python 3",
   "language": "python",
   "name": "python3"
  },
  "language_info": {
   "codemirror_mode": {
    "name": "ipython",
    "version": 3
   },
   "file_extension": ".py",
   "mimetype": "text/x-python",
   "name": "python",
   "nbconvert_exporter": "python",
   "pygments_lexer": "ipython3",
   "version": "3.8.8"
  }
 },
 "nbformat": 4,
 "nbformat_minor": 5
}

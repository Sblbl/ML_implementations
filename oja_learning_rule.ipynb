{
 "cells": [
  {
   "cell_type": "markdown",
   "id": "differential-sailing",
   "metadata": {},
   "source": [
    "# Oja's learning rule"
   ]
  },
  {
   "cell_type": "markdown",
   "id": "a5b35147",
   "metadata": {},
   "source": [
    "<img src=\"img/oja.png\" style='height : 300px'>"
   ]
  },
  {
   "cell_type": "code",
   "execution_count": 1,
   "id": "recognized-broadway",
   "metadata": {},
   "outputs": [],
   "source": [
    "import numpy as np"
   ]
  },
  {
   "cell_type": "code",
   "execution_count": 2,
   "id": "valuable-maine",
   "metadata": {},
   "outputs": [],
   "source": [
    "def oja(X, alpha=np.float64(0.01), w=[[-1.], [0.]], epochs=2):\n",
    "    \"\"\" Oja's learning rule\n",
    "        Parameters\n",
    "        ----------\n",
    "        X: np.array\n",
    "            Feature vectors\n",
    "        alpha: np.array\n",
    "            Learning rate\n",
    "        w: np.array\n",
    "            Initialised weights\n",
    "        epochs: int, optional\n",
    "            Number of training epochs\n",
    "    \"\"\"\n",
    "    # standardization\n",
    "    mu = np.mean(X, axis=0)\n",
    "    norm_X = X - mu\n",
    "    print('norm_X:' ,norm_X)\n",
    "    w = np.array(w)\n",
    "    # covariance matrix -> eigenvalues/vectors\n",
    "    cov_mat = np.cov(norm_X.T)\n",
    "    eigval, eigvec = np.linalg.eig(cov_mat)\n",
    "    \n",
    "    for epoch in range(epochs):\n",
    "        print('#################')\n",
    "        print('EPOCH ', epoch)\n",
    "        print('#################')\n",
    "        \n",
    "        y_hat = np.dot(norm_X, w)\n",
    "        print('y_hat:', y_hat)\n",
    "        \n",
    "        x_t_by_yw = norm_X - y_hat*w.T\n",
    "        print('x.t-yw', x_t_by_yw)\n",
    "        \n",
    "        alpha_by_y_by_x_t_by_yw = alpha * y_hat * x_t_by_yw\n",
    "        print('ny(x.t-yw)', alpha_by_y_by_x_t_by_yw)\n",
    "        \n",
    "        w = w + alpha * np.sum(y_hat * norm_X - np.square(y_hat) * w.T,  axis=0).reshape((2, 1))\n",
    "        print('w:', w)"
   ]
  },
  {
   "cell_type": "markdown",
   "id": "2bcdc37e",
   "metadata": {},
   "source": [
    "## Examples"
   ]
  },
  {
   "cell_type": "code",
   "execution_count": 3,
   "id": "adequate-running",
   "metadata": {},
   "outputs": [],
   "source": [
    "data = np.array([\n",
    "    [0., 1.], \n",
    "    [3., 5.],\n",
    "    [5., 4.],\n",
    "    [5., 6.], \n",
    "    [8., 7.],\n",
    "    [9., 7.]\n",
    "])"
   ]
  },
  {
   "cell_type": "code",
   "execution_count": 4,
   "id": "married-superior",
   "metadata": {},
   "outputs": [
    {
     "name": "stdout",
     "output_type": "stream",
     "text": [
      "norm_X: [[-5. -4.]\n",
      " [-2.  0.]\n",
      " [ 0. -1.]\n",
      " [ 0.  1.]\n",
      " [ 3.  2.]\n",
      " [ 4.  2.]]\n",
      "#################\n",
      "EPOCH  0\n",
      "#################\n",
      "y_hat: [[ 5.]\n",
      " [ 2.]\n",
      " [ 0.]\n",
      " [ 0.]\n",
      " [-3.]\n",
      " [-4.]]\n",
      "x.t-yw [[ 0. -4.]\n",
      " [ 0.  0.]\n",
      " [ 0. -1.]\n",
      " [ 0.  1.]\n",
      " [ 0.  2.]\n",
      " [ 0.  2.]]\n",
      "ny(x.t-yw) [[ 0.   -0.2 ]\n",
      " [ 0.    0.  ]\n",
      " [ 0.   -0.  ]\n",
      " [ 0.    0.  ]\n",
      " [-0.   -0.06]\n",
      " [-0.   -0.08]]\n",
      "w: [[-1.  ]\n",
      " [-0.34]]\n",
      "#################\n",
      "EPOCH  1\n",
      "#################\n",
      "y_hat: [[ 6.36]\n",
      " [ 2.  ]\n",
      " [ 0.34]\n",
      " [-0.34]\n",
      " [-3.68]\n",
      " [-4.68]]\n",
      "x.t-yw [[ 1.36   -1.8376]\n",
      " [ 0.      0.68  ]\n",
      " [ 0.34   -0.8844]\n",
      " [-0.34    0.8844]\n",
      " [-0.68    0.7488]\n",
      " [-0.68    0.4088]]\n",
      "ny(x.t-yw) [[ 0.086496   -0.11687136]\n",
      " [ 0.          0.0136    ]\n",
      " [ 0.001156   -0.00300696]\n",
      " [ 0.001156   -0.00300696]\n",
      " [ 0.025024   -0.02755584]\n",
      " [ 0.031824   -0.01913184]]\n",
      "w: [[-0.854344  ]\n",
      " [-0.49597296]]\n"
     ]
    }
   ],
   "source": [
    "oja(data, alpha=0.01, w=[[-1],[ 0]], epochs=2)"
   ]
  },
  {
   "cell_type": "code",
   "execution_count": null,
   "id": "proper-river",
   "metadata": {},
   "outputs": [],
   "source": []
  }
 ],
 "metadata": {
  "kernelspec": {
   "display_name": "Python 3",
   "language": "python",
   "name": "python3"
  },
  "language_info": {
   "codemirror_mode": {
    "name": "ipython",
    "version": 3
   },
   "file_extension": ".py",
   "mimetype": "text/x-python",
   "name": "python",
   "nbconvert_exporter": "python",
   "pygments_lexer": "ipython3",
   "version": "3.8.8"
  }
 },
 "nbformat": 4,
 "nbformat_minor": 5
}

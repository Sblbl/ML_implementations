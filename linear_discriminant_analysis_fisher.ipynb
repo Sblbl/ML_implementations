{
 "cells": [
  {
   "cell_type": "markdown",
   "id": "governmental-liability",
   "metadata": {},
   "source": [
    "# Fisher linear discriminant analysis"
   ]
  },
  {
   "cell_type": "code",
   "execution_count": 13,
   "id": "revolutionary-potential",
   "metadata": {},
   "outputs": [],
   "source": [
    "import numpy as np"
   ]
  },
  {
   "cell_type": "code",
   "execution_count": 64,
   "id": "extensive-delight",
   "metadata": {},
   "outputs": [],
   "source": [
    "def get_fisher_cost(X, y, w):\n",
    "    \"\"\" Fisher's LDA\n",
    "        X: np.array\n",
    "            Feature vectors\n",
    "        y: np.array\n",
    "            Class vector\n",
    "        w: np.array\n",
    "            Initialised weights\n",
    "    \"\"\"\n",
    "    # scatter between classes\n",
    "    mu = []\n",
    "    subsets = []\n",
    "    classes = []\n",
    "    # get classes\n",
    "    for c in np.unique(y):\n",
    "        idxs = np.where(y == c)\n",
    "        subset = np.array([\n",
    "            X[idxs[0]]\n",
    "        ])\n",
    "        classes.append(c)\n",
    "        \n",
    "        for i in range(1, len(idxs)):\n",
    "            subset = np.concatenate((subset, X[idxs[i]]), axis=0)\n",
    "        subset = subset[0]\n",
    "        subsets.append(subset)\n",
    "        mu.append(np.mean(subset, axis=0))\n",
    "    classes = np.array(classes)\n",
    "    subsets = np.array(subsets)\n",
    "    mu = np.array(mu)\n",
    "    print('mu:', mu)\n",
    "    \n",
    "    # between class scatter\n",
    "    sb = np.abs(np.dot(w, np.subtract(mu[0], mu[1])))**2\n",
    "    print('sb: ', sb)\n",
    "    \n",
    "    print('subsets')\n",
    "    print(subsets)\n",
    "    \n",
    "    sw = 0\n",
    "    \n",
    "    # for each class\n",
    "    for i, subset in enumerate(subsets):\n",
    "        class_contr = 0\n",
    "        # for each member of the class\n",
    "        for x in subset:\n",
    "            class_contr += np.dot(w, np.subtract(x, mu[i]))**2\n",
    "        sw += class_contr\n",
    "    \n",
    "    print('sw:', sw)\n",
    "    \n",
    "    cost = sb/sw\n",
    "    \n",
    "    print('cost:', cost)"
   ]
  },
  {
   "cell_type": "markdown",
   "id": "40d9d6b1",
   "metadata": {},
   "source": [
    "## Examples"
   ]
  },
  {
   "cell_type": "code",
   "execution_count": 65,
   "id": "typical-manual",
   "metadata": {},
   "outputs": [],
   "source": [
    "X = np.array([\n",
    "    [1, 2], \n",
    "    [2, 1],\n",
    "    [3, 3], \n",
    "    [6, 5], \n",
    "    [7, 8]\n",
    "])\n",
    "y = np.array([1, 1, 1, 2, 2])\n",
    "w_1 = np.array([-1, 5])\n",
    "w_2 = np.array([2, -3])"
   ]
  },
  {
   "cell_type": "code",
   "execution_count": 66,
   "id": "oriental-bachelor",
   "metadata": {},
   "outputs": [
    {
     "name": "stdout",
     "output_type": "stream",
     "text": [
      "mu: [[2.  2. ]\n",
      " [6.5 6.5]]\n",
      "sb:  324.0\n",
      "subsets\n",
      "[array([[1, 2],\n",
      "       [2, 1],\n",
      "       [3, 3]])\n",
      " array([[6, 5],\n",
      "       [7, 8]])]\n",
      "sw: 140.0\n",
      "cost: 2.3142857142857145\n"
     ]
    }
   ],
   "source": [
    "get_fisher_cost(X, y, w_1)"
   ]
  },
  {
   "cell_type": "code",
   "execution_count": 67,
   "id": "formed-rehabilitation",
   "metadata": {},
   "outputs": [
    {
     "name": "stdout",
     "output_type": "stream",
     "text": [
      "mu: [[2.  2. ]\n",
      " [6.5 6.5]]\n",
      "sb:  20.25\n",
      "subsets\n",
      "[array([[1, 2],\n",
      "       [2, 1],\n",
      "       [3, 3]])\n",
      " array([[6, 5],\n",
      "       [7, 8]])]\n",
      "sw: 38.5\n",
      "cost: 0.525974025974026\n"
     ]
    }
   ],
   "source": [
    "get_fisher_cost(X, y, w_2)"
   ]
  },
  {
   "cell_type": "markdown",
   "id": "treated-distinction",
   "metadata": {},
   "source": [
    "as w_1's cost is higher, it's a more effective projection weight"
   ]
  },
  {
   "cell_type": "code",
   "execution_count": 71,
   "id": "indirect-eleven",
   "metadata": {},
   "outputs": [
    {
     "name": "stdout",
     "output_type": "stream",
     "text": [
      "9\n",
      "3\n",
      "12\n",
      "19\n",
      "33\n"
     ]
    }
   ],
   "source": [
    "for x in X:\n",
    "    print(np.dot(x, w_1))"
   ]
  },
  {
   "cell_type": "code",
   "execution_count": 72,
   "id": "stretch-crawford",
   "metadata": {},
   "outputs": [
    {
     "name": "stdout",
     "output_type": "stream",
     "text": [
      "-4\n",
      "1\n",
      "-3\n",
      "-3\n",
      "-10\n"
     ]
    }
   ],
   "source": [
    "for x in X:\n",
    "    print(np.dot(x, w_2))"
   ]
  },
  {
   "cell_type": "markdown",
   "id": "younger-associate",
   "metadata": {},
   "source": [
    "w_1 makes the dataset separable, while w_2 it doesn't succeed in it"
   ]
  }
 ],
 "metadata": {
  "kernelspec": {
   "display_name": "Python 3",
   "language": "python",
   "name": "python3"
  },
  "language_info": {
   "codemirror_mode": {
    "name": "ipython",
    "version": 3
   },
   "file_extension": ".py",
   "mimetype": "text/x-python",
   "name": "python",
   "nbconvert_exporter": "python",
   "pygments_lexer": "ipython3",
   "version": "3.8.8"
  }
 },
 "nbformat": 4,
 "nbformat_minor": 5
}

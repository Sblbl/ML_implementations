{
 "cells": [
  {
   "cell_type": "markdown",
   "id": "union-timer",
   "metadata": {},
   "source": [
    "# GAN"
   ]
  },
  {
   "cell_type": "code",
   "execution_count": 1,
   "id": "american-championship",
   "metadata": {},
   "outputs": [],
   "source": [
    "import numpy as np"
   ]
  },
  {
   "cell_type": "code",
   "execution_count": 3,
   "id": "announced-calendar",
   "metadata": {},
   "outputs": [],
   "source": [
    "def discriminator(x1, x2, theta_1, theta_2):\n",
    "    return(1/(1+np.exp(-(theta_1 * x1 - theta_2*x2 -2))))\n",
    "def uniform_proba(X):\n",
    "    return 1 / len(X)"
   ]
  },
  {
   "cell_type": "markdown",
   "id": "turned-bridal",
   "metadata": {},
   "source": [
    "<img src=\"img/VDG.png\"/>"
   ]
  },
  {
   "cell_type": "code",
   "execution_count": 4,
   "id": "spoken-overhead",
   "metadata": {},
   "outputs": [],
   "source": [
    "def compute_VDG(X_real, X_fake, theta_1, theta_2):\n",
    "    # compute the expectation of pdata(X)[lnD(X)]\n",
    "    proba_X_real = uniform_proba(X_real)\n",
    "    print('Proba X_real:', proba_X_real)\n",
    "    Ex_pdata_log_Dx = 0\n",
    "    for i, x in enumerate(X_real):\n",
    "        x1, x2 = x\n",
    "        Ex_pdata_log_Dx += proba_X_real * np.log(discriminator(x1, x2, theta_1, theta_2))\n",
    "    print('Ex_pdata_log_Dx:', Ex_pdata_log_Dx)\n",
    "    # compute the expectation of pz(Z)[ln(1-D(G(z)))]\n",
    "    proba_X_fake = uniform_proba(X_fake)\n",
    "    Ex_pz_log_1_minus_D_Gz = 0\n",
    "    for i, x in enumerate(X_fake):\n",
    "        x1, x2 = x\n",
    "        Ex_pz_log_1_minus_D_Gz += proba_X_fake * np.log(1 - discriminator(x1, x2, theta_1, theta_2))\n",
    "    print('Ex_pz_log_1_minus_D_Gz:', Ex_pz_log_1_minus_D_Gz)\n",
    "    VDG = Ex_pdata_log_Dx + Ex_pz_log_1_minus_D_Gz\n",
    "    print('VDG:', VDG)"
   ]
  },
  {
   "cell_type": "markdown",
   "id": "internal-mandate",
   "metadata": {},
   "source": [
    "<img src=\"img/hell.png\" style=\"height:350px; width: auto;\"/>"
   ]
  },
  {
   "cell_type": "markdown",
   "id": "improving-forge",
   "metadata": {},
   "source": [
    "<img src='img/hell_2.png' style='height:350px; width: auto;' />"
   ]
  },
  {
   "cell_type": "code",
   "execution_count": 11,
   "id": "parallel-stadium",
   "metadata": {},
   "outputs": [],
   "source": [
    "def alpha(x, theta_1, theta_2):\n",
    "    # for real samples\n",
    "    x1, x2 = x\n",
    "    alpha_1 = (x1 * np.exp(-(theta_1 * x1 - theta_2 * x2 -2))) / (1 + np.exp(-(theta_1 * x1 - theta_2 * x2 -2)))\n",
    "    alpha_2 = -(x2 * np.exp(-(theta_1 * x1 - theta_2 * x2 -2))) / (1 + np.exp(-(theta_1 * x1 - theta_2 * x2 -2)))\n",
    "    return np.array([alpha_1, alpha_2])\n",
    "def beta(x, theta_1, theta_2):\n",
    "    # for fake samples\n",
    "    x1, x2 = x\n",
    "    beta_1 = -(x1 * np.exp(-(theta_1 * x1 - theta_2 * x2 -2))) / (np.exp(-(theta_1 * x1 - theta_2 * x2 -2)) * (np.exp(-(theta_1 * x1 - theta_2 * x2 -2))+1))\n",
    "    beta_2 = (x2 * np.exp(-(theta_1 * x1 - theta_2 * x2 -2))) / (np.exp(-(theta_1 * x1 - theta_2 * x2 -2)) * (np.exp(-(theta_1 * x1 - theta_2 * x2 -2))+1))\n",
    "    return np.array([beta_1, beta_2])"
   ]
  },
  {
   "cell_type": "code",
   "execution_count": 22,
   "id": "civil-jimmy",
   "metadata": {},
   "outputs": [],
   "source": [
    "def minibatch(X_real, X_fake, theta_1, theta_2, k=1, lr=0.01):\n",
    "    for iteration in range(k):\n",
    "        print('--------------------')\n",
    "        print('ITERATION', iteration)\n",
    "        gradient = 0\n",
    "        m = len(X_real)\n",
    "        for i in range(m):\n",
    "            real = X_real[i]\n",
    "            fake = X_fake[i]\n",
    "            alpha_x = alpha(real, theta_1, theta_2)\n",
    "            beta_x = beta(fake, theta_1, theta_2)\n",
    "            print('alpha:', alpha_x)\n",
    "            print('beta:', beta_x)\n",
    "            gradient += (1/m * (alpha_x + beta_x))\n",
    "        print('gradient:', gradient) \n",
    "        # update\n",
    "        new_thetas = np.array([theta_1, theta_2]) + lr * gradient\n",
    "        print('new thetas', new_thetas)\n",
    "        theta_1, theta_2 = new_thetas"
   ]
  },
  {
   "cell_type": "markdown",
   "id": "db43119a",
   "metadata": {},
   "source": [
    "## Examples"
   ]
  },
  {
   "cell_type": "code",
   "execution_count": 2,
   "id": "severe-minister",
   "metadata": {},
   "outputs": [],
   "source": [
    "X_real = np.array([\n",
    "    [1, 2],\n",
    "    [3, 4]\n",
    "])\n",
    "X_fake = np.array([\n",
    "    [5, 6],\n",
    "    [7, 8]\n",
    "])\n",
    "theta_1 = 0.1\n",
    "theta_2 = 0.2"
   ]
  },
  {
   "cell_type": "code",
   "execution_count": 5,
   "id": "unusual-green",
   "metadata": {},
   "outputs": [
    {
     "name": "stdout",
     "output_type": "stream",
     "text": [
      "Proba X_real: 0.5\n",
      "Ex_pdata_log_Dx: -2.4872175994452563\n",
      "Ex_pz_log_1_minus_D_Gz: -0.05930316899727689\n",
      "VDG: -2.5465207684425333\n"
     ]
    }
   ],
   "source": [
    "compute_VDG(X_real, X_fake, theta_1, theta_2)"
   ]
  },
  {
   "cell_type": "code",
   "execution_count": 23,
   "id": "composed-medicine",
   "metadata": {},
   "outputs": [
    {
     "name": "stdout",
     "output_type": "stream",
     "text": [
      "--------------------\n",
      "ITERATION 0\n",
      "alpha: [ 0.90887704 -1.81775408]\n",
      "beta: [-0.31486678  0.37784014]\n",
      "alpha: [ 2.77242546 -3.69656728]\n",
      "beta: [-0.36507494  0.4172285 ]\n",
      "gradient: [ 1.50068039 -2.35962636]\n",
      "new thetas [0.13001361 0.15280747]\n"
     ]
    }
   ],
   "source": [
    "minibatch(X_real, X_fake, theta_1, theta_2, k=1, lr=0.02)"
   ]
  },
  {
   "cell_type": "code",
   "execution_count": null,
   "id": "insured-token",
   "metadata": {},
   "outputs": [],
   "source": []
  }
 ],
 "metadata": {
  "kernelspec": {
   "display_name": "Python 3",
   "language": "python",
   "name": "python3"
  },
  "language_info": {
   "codemirror_mode": {
    "name": "ipython",
    "version": 3
   },
   "file_extension": ".py",
   "mimetype": "text/x-python",
   "name": "python",
   "nbconvert_exporter": "python",
   "pygments_lexer": "ipython3",
   "version": "3.8.8"
  }
 },
 "nbformat": 4,
 "nbformat_minor": 5
}

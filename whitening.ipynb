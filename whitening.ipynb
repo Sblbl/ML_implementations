{
 "cells": [
  {
   "cell_type": "markdown",
   "id": "attended-fraction",
   "metadata": {},
   "source": [
    "# Whitening"
   ]
  },
  {
   "cell_type": "code",
   "execution_count": 1,
   "id": "european-charity",
   "metadata": {},
   "outputs": [],
   "source": [
    "import numpy as np"
   ]
  },
  {
   "cell_type": "code",
   "execution_count": 2,
   "id": "surface-antarctica",
   "metadata": {},
   "outputs": [],
   "source": [
    "def whitening(X):\n",
    "    \"\"\"\n",
    "    Function to compute ZCA whitening matrix (aka Mahalanobis whitening).\n",
    "    INPUT:  X: [M x N] matrix.\n",
    "        Rows: Variables\n",
    "        Columns: Observations\n",
    "    OUTPUT: ZCAMatrix: [M x M] matrix\n",
    "    \"\"\"\n",
    "    # Covariance matrix [column-wise variables]: Sigma = (X-mu)' * (X-mu) / N\n",
    "    sigma = np.cov(X, rowvar=True) # [M x M]\n",
    "    # Singular Value Decomposition. X = U * np.diag(S) * V\n",
    "    U,S,V = np.linalg.svd(sigma)\n",
    "        # U: [M x M] eigenvectors of sigma.\n",
    "        # S: [M x 1] eigenvalues of sigma.\n",
    "        # V: [M x M] transpose of U\n",
    "    # Whitening constant: prevents division by zero\n",
    "    epsilon = 1e-5\n",
    "    # ZCA Whitening matrix: U * Lambda * U'\n",
    "    ZCAMatrix = np.dot(U, np.dot(np.diag(1.0/np.sqrt(S + epsilon)), U.T)) # [M x M]\n",
    "    return ZCAMatrix"
   ]
  },
  {
   "cell_type": "markdown",
   "id": "1148f2b7",
   "metadata": {},
   "source": [
    "## Examples"
   ]
  },
  {
   "cell_type": "code",
   "execution_count": 6,
   "id": "subtle-principal",
   "metadata": {},
   "outputs": [
    {
     "name": "stdout",
     "output_type": "stream",
     "text": [
      "[[204.84907554 -18.49407801 129.87276848 -74.39053444   0.        ]\n",
      " [-18.49407801 260.57984302  74.14200101  92.80176798   0.        ]\n",
      " [129.87276848  74.14200101 112.21299652 -18.41123354   0.        ]\n",
      " [-74.39053444  92.80176798 -18.41123354  56.23369561   0.        ]\n",
      " [  0.           0.           0.           0.         316.22776602]]\n",
      "[[ 166.86092451  168.03246973  167.61824734]\n",
      " [ 501.66561302  501.99699093  501.16268489]\n",
      " [ 280.15676051  278.65383738  279.90236581]\n",
      " [ 112.21299652  112.72178592  113.97617561]\n",
      " [3162.27766017 3162.27766017 3162.27766017]]\n"
     ]
    }
   ],
   "source": [
    "X = np.array([[0, 2, 2], [1, 1, 0], [2, 0, 1], [1, 3, 5], [10, 10, 10] ]) # Input: X [5 x 3] matrix\n",
    "whitening_mat = whitening(X) # get ZCAMatrix\n",
    "print(whitening_mat) # [5 x 5] matrix\n",
    "whitened = np.dot(whitening_mat, X) # project X onto the ZCAMatrix\n",
    "print(whitened) # [5 x 3] matrix"
   ]
  },
  {
   "cell_type": "code",
   "execution_count": null,
   "id": "billion-legend",
   "metadata": {},
   "outputs": [],
   "source": []
  }
 ],
 "metadata": {
  "kernelspec": {
   "display_name": "Python 3",
   "language": "python",
   "name": "python3"
  },
  "language_info": {
   "codemirror_mode": {
    "name": "ipython",
    "version": 3
   },
   "file_extension": ".py",
   "mimetype": "text/x-python",
   "name": "python",
   "nbconvert_exporter": "python",
   "pygments_lexer": "ipython3",
   "version": "3.8.8"
  }
 },
 "nbformat": 4,
 "nbformat_minor": 5
}

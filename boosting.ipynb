{
 "cells": [
  {
   "cell_type": "markdown",
   "id": "orange-colorado",
   "metadata": {},
   "source": [
    "# Boosting"
   ]
  },
  {
   "cell_type": "markdown",
   "id": "several-contractor",
   "metadata": {},
   "source": [
    "- Select n samples (less than avg) and train a weak classifier with at least 50% of accuracy\n",
    "- Use at least half of the misclassified samples to create a new informative dataset\n",
    "- And so on"
   ]
  }
 ],
 "metadata": {
  "kernelspec": {
   "display_name": "Python 3",
   "language": "python",
   "name": "python3"
  },
  "language_info": {
   "codemirror_mode": {
    "name": "ipython",
    "version": 3
   },
   "file_extension": ".py",
   "mimetype": "text/x-python",
   "name": "python",
   "nbconvert_exporter": "python",
   "pygments_lexer": "ipython3",
   "version": "3.7.6"
  }
 },
 "nbformat": 4,
 "nbformat_minor": 5
}

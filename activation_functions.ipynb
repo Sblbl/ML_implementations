{
 "cells": [
  {
   "cell_type": "markdown",
   "id": "completed-engine",
   "metadata": {},
   "source": [
    "# Activation Functions"
   ]
  },
  {
   "cell_type": "code",
   "execution_count": 1,
   "id": "competent-executive",
   "metadata": {},
   "outputs": [],
   "source": [
    "import numpy as np"
   ]
  },
  {
   "cell_type": "code",
   "execution_count": 16,
   "id": "recognized-herald",
   "metadata": {},
   "outputs": [],
   "source": [
    "def sigmoid(X):\n",
    "    return 1/(1+np.exp(-X))\n",
    "def relu(X):\n",
    "    return np.maximum(0,X)\n",
    "def softmax(X):\n",
    "    expo = np.exp(X)\n",
    "    expo_sum = np.sum(np.exp(X))\n",
    "    return expo/expo_sum\n",
    "def tanh(x):\n",
    "    return np.tanh(x)\n",
    "def lrelu(X, alpha):\n",
    "    return np.where(X > 0, X, X * alpha)\n",
    "def heaviside(X, t):\n",
    "    return np.where((X-t) != 0, np.maximum(0, np.sign(X-t)), 0.5) "
   ]
  },
  {
   "cell_type": "markdown",
   "id": "5dceb8ca",
   "metadata": {},
   "source": [
    "## Examples"
   ]
  },
  {
   "cell_type": "code",
   "execution_count": 4,
   "id": "durable-madonna",
   "metadata": {},
   "outputs": [],
   "source": [
    "inp = np.array([\n",
    "    [1, 0.5, 0.2],\n",
    "    [-1, -0.5, -0.2],\n",
    "    [0.1, -0.1, 0]\n",
    "])"
   ]
  },
  {
   "cell_type": "code",
   "execution_count": 5,
   "id": "aware-fashion",
   "metadata": {},
   "outputs": [
    {
     "data": {
      "text/plain": [
       "array([[0.73105858, 0.62245933, 0.549834  ],\n",
       "       [0.26894142, 0.37754067, 0.450166  ],\n",
       "       [0.52497919, 0.47502081, 0.5       ]])"
      ]
     },
     "execution_count": 5,
     "metadata": {},
     "output_type": "execute_result"
    }
   ],
   "source": [
    "sigmoid(inp)"
   ]
  },
  {
   "cell_type": "code",
   "execution_count": 7,
   "id": "abandoned-advance",
   "metadata": {},
   "outputs": [
    {
     "data": {
      "text/plain": [
       "array([[1. , 0.5, 0.2],\n",
       "       [0. , 0. , 0. ],\n",
       "       [0.1, 0. , 0. ]])"
      ]
     },
     "execution_count": 7,
     "metadata": {},
     "output_type": "execute_result"
    }
   ],
   "source": [
    "relu(inp)"
   ]
  },
  {
   "cell_type": "code",
   "execution_count": 8,
   "id": "beneficial-yemen",
   "metadata": {},
   "outputs": [
    {
     "data": {
      "text/plain": [
       "array([[0.26158566, 0.15865973, 0.11753802],\n",
       "       [0.03540177, 0.05836765, 0.07878809],\n",
       "       [0.10635279, 0.0870743 , 0.09623199]])"
      ]
     },
     "execution_count": 8,
     "metadata": {},
     "output_type": "execute_result"
    }
   ],
   "source": [
    "softmax(inp)"
   ]
  },
  {
   "cell_type": "code",
   "execution_count": 9,
   "id": "sorted-kentucky",
   "metadata": {},
   "outputs": [
    {
     "data": {
      "text/plain": [
       "array([[ 0.76159416,  0.46211716,  0.19737532],\n",
       "       [-0.76159416, -0.46211716, -0.19737532],\n",
       "       [ 0.09966799, -0.09966799,  0.        ]])"
      ]
     },
     "execution_count": 9,
     "metadata": {},
     "output_type": "execute_result"
    }
   ],
   "source": [
    "tanh(inp)"
   ]
  },
  {
   "cell_type": "code",
   "execution_count": 15,
   "id": "knowing-collins",
   "metadata": {},
   "outputs": [
    {
     "data": {
      "text/plain": [
       "array([[ 1.  ,  0.5 ,  0.2 ],\n",
       "       [-0.1 , -0.05, -0.02],\n",
       "       [ 0.1 , -0.01,  0.  ]])"
      ]
     },
     "execution_count": 15,
     "metadata": {},
     "output_type": "execute_result"
    }
   ],
   "source": [
    "lrelu(inp, 0.1)"
   ]
  },
  {
   "cell_type": "code",
   "execution_count": 17,
   "id": "beautiful-updating",
   "metadata": {},
   "outputs": [
    {
     "data": {
      "text/plain": [
       "array([[1. , 1. , 1. ],\n",
       "       [0. , 0. , 0. ],\n",
       "       [0.5, 0. , 0. ]])"
      ]
     },
     "execution_count": 17,
     "metadata": {},
     "output_type": "execute_result"
    }
   ],
   "source": [
    "heaviside(inp, 0.1)"
   ]
  }
 ],
 "metadata": {
  "kernelspec": {
   "display_name": "Python 3",
   "language": "python",
   "name": "python3"
  },
  "language_info": {
   "codemirror_mode": {
    "name": "ipython",
    "version": 3
   },
   "file_extension": ".py",
   "mimetype": "text/x-python",
   "name": "python",
   "nbconvert_exporter": "python",
   "pygments_lexer": "ipython3",
   "version": "3.8.8"
  }
 },
 "nbformat": 4,
 "nbformat_minor": 5
}

{
 "cells": [
  {
   "cell_type": "markdown",
   "id": "adjusted-worcester",
   "metadata": {},
   "source": [
    "# Convolutional layer"
   ]
  },
  {
   "cell_type": "code",
   "execution_count": 1,
   "id": "afraid-savannah",
   "metadata": {},
   "outputs": [
    {
     "name": "stderr",
     "output_type": "stream",
     "text": [
      "Using TensorFlow backend.\n",
      "/opt/anaconda3/lib/python3.7/site-packages/tensorflow/python/framework/dtypes.py:516: FutureWarning: Passing (type, 1) or '1type' as a synonym of type is deprecated; in a future version of numpy, it will be understood as (type, (1,)) / '(1,)type'.\n",
      "  _np_qint8 = np.dtype([(\"qint8\", np.int8, 1)])\n",
      "/opt/anaconda3/lib/python3.7/site-packages/tensorflow/python/framework/dtypes.py:517: FutureWarning: Passing (type, 1) or '1type' as a synonym of type is deprecated; in a future version of numpy, it will be understood as (type, (1,)) / '(1,)type'.\n",
      "  _np_quint8 = np.dtype([(\"quint8\", np.uint8, 1)])\n",
      "/opt/anaconda3/lib/python3.7/site-packages/tensorflow/python/framework/dtypes.py:518: FutureWarning: Passing (type, 1) or '1type' as a synonym of type is deprecated; in a future version of numpy, it will be understood as (type, (1,)) / '(1,)type'.\n",
      "  _np_qint16 = np.dtype([(\"qint16\", np.int16, 1)])\n",
      "/opt/anaconda3/lib/python3.7/site-packages/tensorflow/python/framework/dtypes.py:519: FutureWarning: Passing (type, 1) or '1type' as a synonym of type is deprecated; in a future version of numpy, it will be understood as (type, (1,)) / '(1,)type'.\n",
      "  _np_quint16 = np.dtype([(\"quint16\", np.uint16, 1)])\n",
      "/opt/anaconda3/lib/python3.7/site-packages/tensorflow/python/framework/dtypes.py:520: FutureWarning: Passing (type, 1) or '1type' as a synonym of type is deprecated; in a future version of numpy, it will be understood as (type, (1,)) / '(1,)type'.\n",
      "  _np_qint32 = np.dtype([(\"qint32\", np.int32, 1)])\n",
      "/opt/anaconda3/lib/python3.7/site-packages/tensorflow/python/framework/dtypes.py:525: FutureWarning: Passing (type, 1) or '1type' as a synonym of type is deprecated; in a future version of numpy, it will be understood as (type, (1,)) / '(1,)type'.\n",
      "  np_resource = np.dtype([(\"resource\", np.ubyte, 1)])\n",
      "/opt/anaconda3/lib/python3.7/site-packages/tensorboard/compat/tensorflow_stub/dtypes.py:541: FutureWarning: Passing (type, 1) or '1type' as a synonym of type is deprecated; in a future version of numpy, it will be understood as (type, (1,)) / '(1,)type'.\n",
      "  _np_qint8 = np.dtype([(\"qint8\", np.int8, 1)])\n",
      "/opt/anaconda3/lib/python3.7/site-packages/tensorboard/compat/tensorflow_stub/dtypes.py:542: FutureWarning: Passing (type, 1) or '1type' as a synonym of type is deprecated; in a future version of numpy, it will be understood as (type, (1,)) / '(1,)type'.\n",
      "  _np_quint8 = np.dtype([(\"quint8\", np.uint8, 1)])\n",
      "/opt/anaconda3/lib/python3.7/site-packages/tensorboard/compat/tensorflow_stub/dtypes.py:543: FutureWarning: Passing (type, 1) or '1type' as a synonym of type is deprecated; in a future version of numpy, it will be understood as (type, (1,)) / '(1,)type'.\n",
      "  _np_qint16 = np.dtype([(\"qint16\", np.int16, 1)])\n",
      "/opt/anaconda3/lib/python3.7/site-packages/tensorboard/compat/tensorflow_stub/dtypes.py:544: FutureWarning: Passing (type, 1) or '1type' as a synonym of type is deprecated; in a future version of numpy, it will be understood as (type, (1,)) / '(1,)type'.\n",
      "  _np_quint16 = np.dtype([(\"quint16\", np.uint16, 1)])\n",
      "/opt/anaconda3/lib/python3.7/site-packages/tensorboard/compat/tensorflow_stub/dtypes.py:545: FutureWarning: Passing (type, 1) or '1type' as a synonym of type is deprecated; in a future version of numpy, it will be understood as (type, (1,)) / '(1,)type'.\n",
      "  _np_qint32 = np.dtype([(\"qint32\", np.int32, 1)])\n",
      "/opt/anaconda3/lib/python3.7/site-packages/tensorboard/compat/tensorflow_stub/dtypes.py:550: FutureWarning: Passing (type, 1) or '1type' as a synonym of type is deprecated; in a future version of numpy, it will be understood as (type, (1,)) / '(1,)type'.\n",
      "  np_resource = np.dtype([(\"resource\", np.ubyte, 1)])\n"
     ]
    }
   ],
   "source": [
    "import numpy as np\n",
    "from keras.models import Sequential\n",
    "from keras.layers import Conv2D"
   ]
  },
  {
   "cell_type": "code",
   "execution_count": 9,
   "id": "necessary-massachusetts",
   "metadata": {},
   "outputs": [],
   "source": [
    "def convolute(data, kernel, strides=(1, 1), padding='valid', dilation=(1, 1)):\n",
    "    \"\"\"Convolute\n",
    "        Parameters\n",
    "        -----------\n",
    "        data: np.array\n",
    "            The input data\n",
    "        kernel: np.array\n",
    "            The weights\n",
    "        strides: tuple, default (1, 1)\n",
    "            The amount of stride (hor, ver)\n",
    "        padding: ['valid', 'same'], default 'valud'\n",
    "            The padding size: valid -> no padding; same -> same size everywhere\n",
    "        dilation: tuple, default (1, 1)\n",
    "            The amount of dilation\n",
    "    \"\"\"\n",
    "    w = len(data)\n",
    "    h = len(data[0])\n",
    "    data = data.reshape(1, w, h, 1)\n",
    "    model = Sequential()\n",
    "    model.add(Conv2D(\n",
    "        1, \n",
    "        (len(kernel),len(kernel[0])), \n",
    "        input_shape=(w, h, 1),\n",
    "        strides = strides,\n",
    "        padding = padding,\n",
    "        dilation_rate = dilation\n",
    "    ))\n",
    "    # set the kernel as convolution weights + bias of 0\n",
    "    weights = [kernel, np.asarray([0.0])]\n",
    "    model.set_weights(weights)\n",
    "    # perform convolution\n",
    "    yhat = model.predict(data)\n",
    "    \n",
    "    for r in range(yhat.shape[1]):\n",
    "        # print each column in the row\n",
    "        print([yhat[0,r,c,0] for c in range(yhat.shape[2])])\n",
    "    return(yhat)"
   ]
  },
  {
   "cell_type": "markdown",
   "id": "increased-consultation",
   "metadata": {},
   "source": [
    "Example of a 3x3 kernel\n",
    "```\n",
    "kernel = [\n",
    "            [[[0]],[[1]],[[0]]],\n",
    "            [[[0]],[[1]],[[0]]],\n",
    "            [[[0]],[[1]],[[0]]]\n",
    "            ]\n",
    "```"
   ]
  },
  {
   "cell_type": "markdown",
   "id": "governmental-bangkok",
   "metadata": {},
   "source": [
    "## Examples"
   ]
  },
  {
   "cell_type": "markdown",
   "id": "opening-authority",
   "metadata": {},
   "source": [
    "In this case we're managing more than 1 channel. We simply sum the results of the convolutions on each channel"
   ]
  },
  {
   "cell_type": "code",
   "execution_count": 10,
   "id": "sweet-little",
   "metadata": {},
   "outputs": [],
   "source": [
    "ch_1 = np.array([\n",
    "    [0.2, 1, 0],\n",
    "    [-1, 0, -0.1],\n",
    "    [0.1, 0, 0.1]\n",
    "])\n",
    "ch_2 = np.array([\n",
    "    [1, 0.5, 0.2],\n",
    "    [-1, -0.5, -0.2],\n",
    "    [0.1, -0.1, 0]\n",
    "])\n",
    "\n",
    "kernel_1 = np.array([\n",
    "    [[[1]], [[-0.1]]],\n",
    "    [[[1]], [[-0.1]]],\n",
    "])\n",
    "\n",
    "kernel_2 = np.array([\n",
    "    [[[0.5]], [[0.5]]],\n",
    "    [[[-0.5]], [[-0.5]]],\n",
    "])"
   ]
  },
  {
   "cell_type": "markdown",
   "id": "deluxe-cologne",
   "metadata": {},
   "source": [
    "padding=0, stride=1"
   ]
  },
  {
   "cell_type": "code",
   "execution_count": 11,
   "id": "removed-douglas",
   "metadata": {},
   "outputs": [
    {
     "name": "stdout",
     "output_type": "stream",
     "text": [
      "[-0.9, 1.01]\n",
      "[-0.9, 4.0978193e-10]\n",
      "[1.5, 0.70000005]\n",
      "[-0.75, -0.29999998]\n"
     ]
    },
    {
     "data": {
      "text/plain": [
       "array([[[[ 0.6       ],\n",
       "         [ 1.71      ]],\n",
       "\n",
       "        [[-1.65      ],\n",
       "         [-0.29999998]]]], dtype=float32)"
      ]
     },
     "execution_count": 11,
     "metadata": {},
     "output_type": "execute_result"
    }
   ],
   "source": [
    "convolute(ch_1, kernel_1) + convolute(ch_2, kernel_2)"
   ]
  },
  {
   "cell_type": "markdown",
   "id": "better-insulin",
   "metadata": {},
   "source": [
    "padding=0, stride=1, dilation=2"
   ]
  },
  {
   "cell_type": "code",
   "execution_count": 13,
   "id": "racial-click",
   "metadata": {},
   "outputs": [
    {
     "name": "stdout",
     "output_type": "stream",
     "text": [
      "[0.29000002]\n",
      "[0.55]\n"
     ]
    },
    {
     "data": {
      "text/plain": [
       "array([[[[0.84000003]]]], dtype=float32)"
      ]
     },
     "execution_count": 13,
     "metadata": {},
     "output_type": "execute_result"
    }
   ],
   "source": [
    "convolute(ch_1, kernel_1, dilation=(2, 2)) + convolute(ch_2, kernel_2, dilation=(2, 2))"
   ]
  },
  {
   "cell_type": "code",
   "execution_count": null,
   "id": "northern-unknown",
   "metadata": {},
   "outputs": [],
   "source": []
  }
 ],
 "metadata": {
  "kernelspec": {
   "display_name": "Python 3",
   "language": "python",
   "name": "python3"
  },
  "language_info": {
   "codemirror_mode": {
    "name": "ipython",
    "version": 3
   },
   "file_extension": ".py",
   "mimetype": "text/x-python",
   "name": "python",
   "nbconvert_exporter": "python",
   "pygments_lexer": "ipython3",
   "version": "3.7.6"
  }
 },
 "nbformat": 4,
 "nbformat_minor": 5
}

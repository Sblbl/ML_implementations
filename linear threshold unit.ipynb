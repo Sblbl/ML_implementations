{
 "cells": [
  {
   "cell_type": "markdown",
   "id": "sophisticated-latex",
   "metadata": {},
   "source": [
    "# Linear threshold unit"
   ]
  },
  {
   "cell_type": "markdown",
   "id": "preceding-processing",
   "metadata": {},
   "source": [
    "<img src='img/LTU.png' style='height:300px; width:auto;'/>"
   ]
  },
  {
   "cell_type": "code",
   "execution_count": 5,
   "id": "institutional-switzerland",
   "metadata": {},
   "outputs": [],
   "source": [
    "import numpy as np"
   ]
  },
  {
   "cell_type": "code",
   "execution_count": 6,
   "id": "racial-central",
   "metadata": {},
   "outputs": [],
   "source": [
    "def heaviside(X, t=0):\n",
    "    return np.where((X-t) != 0, np.maximum(0, np.sign(X-t)), 0.5) "
   ]
  },
  {
   "cell_type": "code",
   "execution_count": 1,
   "id": "blind-tsunami",
   "metadata": {},
   "outputs": [],
   "source": [
    "def linear_threshold_unit(X, W, threshold):\n",
    "    \"\"\" Linear Threshold Unit \n",
    "        Parameters\n",
    "        ----------\n",
    "        X: np.array\n",
    "            Feature vectors\n",
    "        W: np.array\n",
    "            Initialised weights\n",
    "        threshold: np.array\n",
    "            threshold\n",
    "    \"\"\"\n",
    "    transfer = np.sum(X * W, axis=1).reshape(len(X), 1)\n",
    "    print('transferred X:', transfer)\n",
    "    output = heaviside(transfer, t=threshold)\n",
    "    print('output:', output)"
   ]
  },
  {
   "cell_type": "markdown",
   "id": "8fd69e99",
   "metadata": {},
   "source": [
    "## Examples"
   ]
  },
  {
   "cell_type": "code",
   "execution_count": 47,
   "id": "baking-picking",
   "metadata": {},
   "outputs": [],
   "source": [
    "X = np.array([\n",
    "    [0, 0], \n",
    "    [0, 1],\n",
    "    [1, 0],\n",
    "    [1, 1]\n",
    "])\n",
    "W = np.array([1, 1])\n",
    "threshold = 1.5"
   ]
  },
  {
   "cell_type": "code",
   "execution_count": 48,
   "id": "plain-spouse",
   "metadata": {},
   "outputs": [
    {
     "name": "stdout",
     "output_type": "stream",
     "text": [
      "data: [[0 0]\n",
      " [0 1]\n",
      " [1 0]\n",
      " [1 1]]\n",
      "transferred X: [[0]\n",
      " [1]\n",
      " [1]\n",
      " [2]]\n",
      "output: [[0.]\n",
      " [0.]\n",
      " [0.]\n",
      " [1.]]\n"
     ]
    }
   ],
   "source": [
    "linear_threshold_unit(X, W, threshold)"
   ]
  }
 ],
 "metadata": {
  "kernelspec": {
   "display_name": "Python 3",
   "language": "python",
   "name": "python3"
  },
  "language_info": {
   "codemirror_mode": {
    "name": "ipython",
    "version": 3
   },
   "file_extension": ".py",
   "mimetype": "text/x-python",
   "name": "python",
   "nbconvert_exporter": "python",
   "pygments_lexer": "ipython3",
   "version": "3.8.8"
  }
 },
 "nbformat": 4,
 "nbformat_minor": 5
}

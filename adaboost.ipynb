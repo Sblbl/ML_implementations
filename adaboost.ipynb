{
 "cells": [
  {
   "cell_type": "markdown",
   "id": "polish-details",
   "metadata": {},
   "source": [
    "# Adaboost"
   ]
  },
  {
   "cell_type": "code",
   "execution_count": 1,
   "id": "asian-proxy",
   "metadata": {},
   "outputs": [],
   "source": [
    "import numpy as np"
   ]
  },
  {
   "cell_type": "code",
   "execution_count": 17,
   "id": "tutorial-spouse",
   "metadata": {},
   "outputs": [],
   "source": [
    "def adaboost(X, y, classifiers, epochs = 1):\n",
    "    # weight init\n",
    "    W = []\n",
    "    n = len(X)\n",
    "    for i in range(n):\n",
    "        W.append(1/n)\n",
    "    for epoch in range(epochs):\n",
    "        print('---------------------')\n",
    "        print('EPOCH', epoch)\n",
    "        # compute weak classifiers error\n",
    "        classifications = []\n",
    "        c_errors = []\n",
    "        for classifier in classifiers:\n",
    "            c = []\n",
    "            error = 0\n",
    "            for i, x in enumerate(X):\n",
    "                label = classifier.classify(x)\n",
    "                c.append(label)\n",
    "                if label != y[i]:\n",
    "                    error += W[i]\n",
    "            c_errors.append(error)\n",
    "            print('error', classifier.name, ':', error)\n",
    "        # chose the best classifier\n",
    "        idx = c_errors.index(min(c_errors))\n",
    "        best = classifiers[idx]\n",
    "        print('best classifier:', best.name)\n",
    "        alpha = 1/2 * np.log((1 - c_errors[idx]) / c_errors[idx])\n",
    "        print('alpha:', alpha)\n",
    "        # update weights\n",
    "        new_weights = []\n",
    "        for i, x in enumerate(X):\n",
    "            new_w = W[i] * np.exp(-(alpha * y[i] * best.classify(x)))\n",
    "            new_weights.append(new_w)\n",
    "        print('new weights:', new_weights)\n",
    "        z = sum(new_weights)\n",
    "        # norm. weights\n",
    "        new_weights = [i/z for i in new_weights]\n",
    "        print('norm weights:', new_weights)\n",
    "        W = new_weights"
   ]
  },
  {
   "cell_type": "markdown",
   "id": "d931cb35",
   "metadata": {},
   "source": [
    "## Example"
   ]
  },
  {
   "cell_type": "code",
   "execution_count": 1,
   "id": "affecting-aside",
   "metadata": {},
   "outputs": [],
   "source": [
    "# Yeah, maybe it's not the best way to do this ;)\n",
    "class c_1:\n",
    "    def __init__(self):\n",
    "        self.name = 'c1'\n",
    "    def classify(self, x):\n",
    "        if x[0] > -0.5:\n",
    "            return 1\n",
    "        else:\n",
    "            return -1\n",
    "class c_2:\n",
    "    def __init__(self):\n",
    "        self.name = 'c2'\n",
    "    def classify(self, x):\n",
    "        if x[0] < -0.5:\n",
    "            return 1\n",
    "        else:\n",
    "            return -1\n",
    "class c_3:\n",
    "    def __init__(self):\n",
    "        self.name = 'c3'\n",
    "    def classify(self, x):\n",
    "        if x[0] > 0.5:\n",
    "            return 1\n",
    "        else:\n",
    "            return -1\n",
    "class c_4:\n",
    "    def __init__(self):\n",
    "        self.name = 'c4'\n",
    "    def classify(self, x):\n",
    "        if x[0] < 0.5:\n",
    "            return 1\n",
    "        else:\n",
    "            return -1\n",
    "class c_5:\n",
    "    def __init__(self):\n",
    "        self.name = 'c5'\n",
    "    def classify(self, x):\n",
    "        if x[1] > -0.5:\n",
    "            return 1\n",
    "        else:\n",
    "            return -1\n",
    "class c_6:\n",
    "    def __init__(self):\n",
    "        self.name = 'c6'\n",
    "    def classify(self, x):\n",
    "        if x[1] < -0.5:\n",
    "            return 1\n",
    "        else:\n",
    "            return -1\n",
    "class c_7:\n",
    "    def __init__(self):\n",
    "        self.name = 'c7'\n",
    "    def classify(self, x):\n",
    "        if x[1] > 0.5:\n",
    "            return 1\n",
    "        else:\n",
    "            return -1\n",
    "class c_8:\n",
    "    def __init__(self):\n",
    "        self.name = 'c8'\n",
    "    def classify(self, x):\n",
    "        if x[1] < 0.5:\n",
    "            return 1\n",
    "        else:\n",
    "            return -1"
   ]
  },
  {
   "cell_type": "code",
   "execution_count": 14,
   "id": "generous-welsh",
   "metadata": {},
   "outputs": [],
   "source": [
    "X = np.array([\n",
    "    [1, 0], \n",
    "    [-1, 0],\n",
    "    [0, 1], \n",
    "    [0, -1]\n",
    "])\n",
    "y = np.array([1, 1, -1, -1])\n",
    "c1 = c_1()\n",
    "c2 = c_2()\n",
    "c3 = c_3()\n",
    "c4 = c_4()\n",
    "c5 = c_5()\n",
    "c6 = c_6()\n",
    "c7 = c_7()\n",
    "c8 = c_8()\n",
    "classifiers = [c1, c2, c3, c4, c5, c6, c7, c8]"
   ]
  },
  {
   "cell_type": "code",
   "execution_count": 18,
   "id": "invalid-surveillance",
   "metadata": {},
   "outputs": [
    {
     "name": "stdout",
     "output_type": "stream",
     "text": [
      "---------------------\n",
      "EPOCH 0\n",
      "error c1 : 0.75\n",
      "error c2 : 0.25\n",
      "error c3 : 0.25\n",
      "error c4 : 0.75\n",
      "error c5 : 0.25\n",
      "error c6 : 0.75\n",
      "error c7 : 0.75\n",
      "error c8 : 0.25\n",
      "best classifier: c2\n",
      "alpha: 0.5493061443340549\n",
      "new weights: [0.43301270189221935, 0.14433756729740643, 0.14433756729740643, 0.14433756729740643]\n",
      "norm weights: [0.5000000000000001, 0.16666666666666666, 0.16666666666666666, 0.16666666666666666]\n"
     ]
    }
   ],
   "source": [
    "adaboost(X, y, classifiers, epochs = 1)"
   ]
  },
  {
   "cell_type": "code",
   "execution_count": null,
   "id": "better-recognition",
   "metadata": {},
   "outputs": [],
   "source": []
  }
 ],
 "metadata": {
  "kernelspec": {
   "display_name": "Python 3",
   "language": "python",
   "name": "python3"
  },
  "language_info": {
   "codemirror_mode": {
    "name": "ipython",
    "version": 3
   },
   "file_extension": ".py",
   "mimetype": "text/x-python",
   "name": "python",
   "nbconvert_exporter": "python",
   "pygments_lexer": "ipython3",
   "version": "3.8.8"
  }
 },
 "nbformat": 4,
 "nbformat_minor": 5
}
